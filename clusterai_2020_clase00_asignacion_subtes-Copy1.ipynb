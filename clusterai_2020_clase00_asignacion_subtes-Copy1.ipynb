{
 "cells": [
  {
   "cell_type": "markdown",
   "metadata": {
    "colab_type": "text",
    "id": "A4rtl1EGyrgw"
   },
   "source": [
    "# Clusterai 2020"
   ]
  },
  {
   "cell_type": "markdown",
   "metadata": {
    "colab_type": "text",
    "id": "E9z6LdAqyrgy"
   },
   "source": [
    "# clase_00: Asignaciones Subtes"
   ]
  },
  {
   "cell_type": "markdown",
   "metadata": {
    "colab_type": "text",
    "id": "lE5e0FVKyrg0"
   },
   "source": [
    "**Asignacion 01: Importar las librerías aprendidas en la clase_00:** "
   ]
  },
  {
   "cell_type": "code",
   "execution_count": 1,
   "metadata": {
    "colab": {},
    "colab_type": "code",
    "id": "p78DhXKvyrg2"
   },
   "outputs": [],
   "source": [
    "# importamos las librerías necesarias para trabajar en el siguiente bloque de código\n",
    "import numpy as np\n",
    "import pandas as pd\n",
    "import matplotlib.pyplot as plt\n",
    "import seaborn as sns"
   ]
  },
  {
   "cell_type": "markdown",
   "metadata": {
    "colab_type": "text",
    "collapsed": true,
    "id": "MywDsmT8yrg_"
   },
   "source": [
    "**Asignacion 02:** Descargamos de https://data.buenosaires.gob.ar/dataset/subte-viajes-molinetes el dataset de usuarios de subte por molinete del año 2016. Luego con el comando de Pandas \"pd.read_csv\" importar el dataset. Solicitar que el indice de nuestro dataframe importado sea la columna \"PERIODO\" del archvo .csv que manejamos. Guardar el dataset importado con el nombre \"molinetes16\"."
   ]
  },
  {
   "cell_type": "code",
   "execution_count": 2,
   "metadata": {
    "colab": {},
    "colab_type": "code",
    "id": "OhyZ-g_ayrhA"
   },
   "outputs": [
    {
     "name": "stderr",
     "output_type": "stream",
     "text": [
      "C:\\Users\\fiorf\\Anaconda3\\lib\\site-packages\\numpy\\lib\\arraysetops.py:569: FutureWarning: elementwise comparison failed; returning scalar instead, but in the future will perform elementwise comparison\n",
      "  mask |= (ar1 == a)\n"
     ]
    },
    {
     "data": {
      "text/html": [
       "<div>\n",
       "<style scoped>\n",
       "    .dataframe tbody tr th:only-of-type {\n",
       "        vertical-align: middle;\n",
       "    }\n",
       "\n",
       "    .dataframe tbody tr th {\n",
       "        vertical-align: top;\n",
       "    }\n",
       "\n",
       "    .dataframe thead th {\n",
       "        text-align: right;\n",
       "    }\n",
       "</style>\n",
       "<table border=\"1\" class=\"dataframe\">\n",
       "  <thead>\n",
       "    <tr style=\"text-align: right;\">\n",
       "      <th></th>\n",
       "      <th>FECHA</th>\n",
       "      <th>DESDE</th>\n",
       "      <th>HASTA</th>\n",
       "      <th>LINEA</th>\n",
       "      <th>MOLINETE</th>\n",
       "      <th>ESTACION</th>\n",
       "      <th>PAX_PAGOS</th>\n",
       "      <th>PAX_PASES_PAGOS</th>\n",
       "      <th>PAX_FRANQ</th>\n",
       "      <th>TOTAL</th>\n",
       "    </tr>\n",
       "    <tr>\n",
       "      <th>PERIODO</th>\n",
       "      <th></th>\n",
       "      <th></th>\n",
       "      <th></th>\n",
       "      <th></th>\n",
       "      <th></th>\n",
       "      <th></th>\n",
       "      <th></th>\n",
       "      <th></th>\n",
       "      <th></th>\n",
       "      <th></th>\n",
       "    </tr>\n",
       "  </thead>\n",
       "  <tbody>\n",
       "    <tr>\n",
       "      <th>201601</th>\n",
       "      <td>02/01/2016</td>\n",
       "      <td>05:00:00</td>\n",
       "      <td>05:15:00</td>\n",
       "      <td>LINEA_A</td>\n",
       "      <td>LINEA_A_CARABOBO_E_TURN03</td>\n",
       "      <td>CARABOBO</td>\n",
       "      <td>1</td>\n",
       "      <td>0</td>\n",
       "      <td>0</td>\n",
       "      <td>1</td>\n",
       "    </tr>\n",
       "    <tr>\n",
       "      <th>201601</th>\n",
       "      <td>02/01/2016</td>\n",
       "      <td>05:00:00</td>\n",
       "      <td>05:15:00</td>\n",
       "      <td>LINEA_A</td>\n",
       "      <td>LINEA_A_LIMA_S_TURN03</td>\n",
       "      <td>LIMA</td>\n",
       "      <td>1</td>\n",
       "      <td>0</td>\n",
       "      <td>0</td>\n",
       "      <td>1</td>\n",
       "    </tr>\n",
       "    <tr>\n",
       "      <th>201601</th>\n",
       "      <td>02/01/2016</td>\n",
       "      <td>05:00:00</td>\n",
       "      <td>05:15:00</td>\n",
       "      <td>LINEA_A</td>\n",
       "      <td>LINEA_A_RJANEIRO_S_TURN01</td>\n",
       "      <td>RIO DE JANEIRO</td>\n",
       "      <td>1</td>\n",
       "      <td>0</td>\n",
       "      <td>0</td>\n",
       "      <td>1</td>\n",
       "    </tr>\n",
       "    <tr>\n",
       "      <th>201601</th>\n",
       "      <td>02/01/2016</td>\n",
       "      <td>05:00:00</td>\n",
       "      <td>05:15:00</td>\n",
       "      <td>LINEA_A</td>\n",
       "      <td>LINEA_A_SANPEDRITO_ESTE_TURN05</td>\n",
       "      <td>SAN PEDRITO</td>\n",
       "      <td>0</td>\n",
       "      <td>0</td>\n",
       "      <td>0</td>\n",
       "      <td>0</td>\n",
       "    </tr>\n",
       "    <tr>\n",
       "      <th>201601</th>\n",
       "      <td>02/01/2016</td>\n",
       "      <td>05:00:00</td>\n",
       "      <td>05:15:00</td>\n",
       "      <td>LINEA_A</td>\n",
       "      <td>LINEA_A_SANPEDRITO_OESTE_TURN02</td>\n",
       "      <td>SAN PEDRITO</td>\n",
       "      <td>1</td>\n",
       "      <td>0</td>\n",
       "      <td>0</td>\n",
       "      <td>1</td>\n",
       "    </tr>\n",
       "    <tr>\n",
       "      <th>...</th>\n",
       "      <td>...</td>\n",
       "      <td>...</td>\n",
       "      <td>...</td>\n",
       "      <td>...</td>\n",
       "      <td>...</td>\n",
       "      <td>...</td>\n",
       "      <td>...</td>\n",
       "      <td>...</td>\n",
       "      <td>...</td>\n",
       "      <td>...</td>\n",
       "    </tr>\n",
       "    <tr>\n",
       "      <th>201612</th>\n",
       "      <td>31/12/2016</td>\n",
       "      <td>09:45:00</td>\n",
       "      <td>10:00:00</td>\n",
       "      <td>LINEA_H</td>\n",
       "      <td>LINEA_H_CORRIENTES_SUR_TURN02</td>\n",
       "      <td>CORRIENTES</td>\n",
       "      <td>8</td>\n",
       "      <td>0</td>\n",
       "      <td>1</td>\n",
       "      <td>9</td>\n",
       "    </tr>\n",
       "    <tr>\n",
       "      <th>201612</th>\n",
       "      <td>31/12/2016</td>\n",
       "      <td>09:45:00</td>\n",
       "      <td>10:00:00</td>\n",
       "      <td>LINEA_H</td>\n",
       "      <td>LINEA_H_HOSPITALES_NORTE_TURN01</td>\n",
       "      <td>HOSPITALES</td>\n",
       "      <td>6</td>\n",
       "      <td>0</td>\n",
       "      <td>0</td>\n",
       "      <td>6</td>\n",
       "    </tr>\n",
       "    <tr>\n",
       "      <th>201612</th>\n",
       "      <td>31/12/2016</td>\n",
       "      <td>09:45:00</td>\n",
       "      <td>10:00:00</td>\n",
       "      <td>LINEA_H</td>\n",
       "      <td>LINEA_H_LASHERAS_TURN02</td>\n",
       "      <td>LAS HERAS</td>\n",
       "      <td>10</td>\n",
       "      <td>0</td>\n",
       "      <td>3</td>\n",
       "      <td>13</td>\n",
       "    </tr>\n",
       "    <tr>\n",
       "      <th>201612</th>\n",
       "      <td>31/12/2016</td>\n",
       "      <td>09:45:00</td>\n",
       "      <td>10:00:00</td>\n",
       "      <td>LINEA_H</td>\n",
       "      <td>LINEA_H_SANTAFE_SUR_TURN02</td>\n",
       "      <td>SANTA FE</td>\n",
       "      <td>3</td>\n",
       "      <td>0</td>\n",
       "      <td>1</td>\n",
       "      <td>4</td>\n",
       "    </tr>\n",
       "    <tr>\n",
       "      <th>201612</th>\n",
       "      <td>31/12/2016</td>\n",
       "      <td>09:45:00</td>\n",
       "      <td>10:00:00</td>\n",
       "      <td>LINEA_H</td>\n",
       "      <td>LINEA_H_VENEZUELA_NORTE_TURN01</td>\n",
       "      <td>VENEZUELA</td>\n",
       "      <td>1</td>\n",
       "      <td>0</td>\n",
       "      <td>2</td>\n",
       "      <td>3</td>\n",
       "    </tr>\n",
       "  </tbody>\n",
       "</table>\n",
       "<p>11542333 rows × 10 columns</p>\n",
       "</div>"
      ],
      "text/plain": [
       "              FECHA     DESDE     HASTA    LINEA  \\\n",
       "PERIODO                                            \n",
       "201601   02/01/2016  05:00:00  05:15:00  LINEA_A   \n",
       "201601   02/01/2016  05:00:00  05:15:00  LINEA_A   \n",
       "201601   02/01/2016  05:00:00  05:15:00  LINEA_A   \n",
       "201601   02/01/2016  05:00:00  05:15:00  LINEA_A   \n",
       "201601   02/01/2016  05:00:00  05:15:00  LINEA_A   \n",
       "...             ...       ...       ...      ...   \n",
       "201612   31/12/2016  09:45:00  10:00:00  LINEA_H   \n",
       "201612   31/12/2016  09:45:00  10:00:00  LINEA_H   \n",
       "201612   31/12/2016  09:45:00  10:00:00  LINEA_H   \n",
       "201612   31/12/2016  09:45:00  10:00:00  LINEA_H   \n",
       "201612   31/12/2016  09:45:00  10:00:00  LINEA_H   \n",
       "\n",
       "                                MOLINETE        ESTACION  PAX_PAGOS  \\\n",
       "PERIODO                                                               \n",
       "201601         LINEA_A_CARABOBO_E_TURN03        CARABOBO          1   \n",
       "201601             LINEA_A_LIMA_S_TURN03            LIMA          1   \n",
       "201601         LINEA_A_RJANEIRO_S_TURN01  RIO DE JANEIRO          1   \n",
       "201601    LINEA_A_SANPEDRITO_ESTE_TURN05     SAN PEDRITO          0   \n",
       "201601   LINEA_A_SANPEDRITO_OESTE_TURN02     SAN PEDRITO          1   \n",
       "...                                  ...             ...        ...   \n",
       "201612     LINEA_H_CORRIENTES_SUR_TURN02      CORRIENTES          8   \n",
       "201612   LINEA_H_HOSPITALES_NORTE_TURN01      HOSPITALES          6   \n",
       "201612           LINEA_H_LASHERAS_TURN02       LAS HERAS         10   \n",
       "201612        LINEA_H_SANTAFE_SUR_TURN02        SANTA FE          3   \n",
       "201612    LINEA_H_VENEZUELA_NORTE_TURN01       VENEZUELA          1   \n",
       "\n",
       "         PAX_PASES_PAGOS  PAX_FRANQ  TOTAL  \n",
       "PERIODO                                     \n",
       "201601                 0          0      1  \n",
       "201601                 0          0      1  \n",
       "201601                 0          0      1  \n",
       "201601                 0          0      0  \n",
       "201601                 0          0      1  \n",
       "...                  ...        ...    ...  \n",
       "201612                 0          1      9  \n",
       "201612                 0          0      6  \n",
       "201612                 0          3     13  \n",
       "201612                 0          1      4  \n",
       "201612                 0          2      3  \n",
       "\n",
       "[11542333 rows x 10 columns]"
      ]
     },
     "execution_count": 2,
     "metadata": {},
     "output_type": "execute_result"
    }
   ],
   "source": [
    "# Importar el dataset detallado en el siguiente bloque de codigo.\n",
    "molinetes16=pd.read_csv(r'C:\\Users\\fiorf\\OneDrive\\UTN\\Ciencia de Datos\\datasets\\molinetes-2016\\molinetes_2016.csv', index_col='PERIODO', delimiter=';')\n",
    "\n",
    "molinetes16"
   ]
  },
  {
   "cell_type": "markdown",
   "metadata": {
    "colab_type": "text",
    "id": "4bp5JAlRyrhH"
   },
   "source": [
    "**Asignacion 03:** visualizar las primeras 5 filas del dataset importado \"molinetes16\""
   ]
  },
  {
   "cell_type": "code",
   "execution_count": 3,
   "metadata": {
    "colab": {},
    "colab_type": "code",
    "id": "sdlMthYCyrhI"
   },
   "outputs": [
    {
     "data": {
      "text/html": [
       "<div>\n",
       "<style scoped>\n",
       "    .dataframe tbody tr th:only-of-type {\n",
       "        vertical-align: middle;\n",
       "    }\n",
       "\n",
       "    .dataframe tbody tr th {\n",
       "        vertical-align: top;\n",
       "    }\n",
       "\n",
       "    .dataframe thead th {\n",
       "        text-align: right;\n",
       "    }\n",
       "</style>\n",
       "<table border=\"1\" class=\"dataframe\">\n",
       "  <thead>\n",
       "    <tr style=\"text-align: right;\">\n",
       "      <th></th>\n",
       "      <th>FECHA</th>\n",
       "      <th>DESDE</th>\n",
       "      <th>HASTA</th>\n",
       "      <th>LINEA</th>\n",
       "      <th>MOLINETE</th>\n",
       "      <th>ESTACION</th>\n",
       "      <th>PAX_PAGOS</th>\n",
       "      <th>PAX_PASES_PAGOS</th>\n",
       "      <th>PAX_FRANQ</th>\n",
       "      <th>TOTAL</th>\n",
       "    </tr>\n",
       "    <tr>\n",
       "      <th>PERIODO</th>\n",
       "      <th></th>\n",
       "      <th></th>\n",
       "      <th></th>\n",
       "      <th></th>\n",
       "      <th></th>\n",
       "      <th></th>\n",
       "      <th></th>\n",
       "      <th></th>\n",
       "      <th></th>\n",
       "      <th></th>\n",
       "    </tr>\n",
       "  </thead>\n",
       "  <tbody>\n",
       "    <tr>\n",
       "      <th>201601</th>\n",
       "      <td>02/01/2016</td>\n",
       "      <td>05:00:00</td>\n",
       "      <td>05:15:00</td>\n",
       "      <td>LINEA_A</td>\n",
       "      <td>LINEA_A_CARABOBO_E_TURN03</td>\n",
       "      <td>CARABOBO</td>\n",
       "      <td>1</td>\n",
       "      <td>0</td>\n",
       "      <td>0</td>\n",
       "      <td>1</td>\n",
       "    </tr>\n",
       "    <tr>\n",
       "      <th>201601</th>\n",
       "      <td>02/01/2016</td>\n",
       "      <td>05:00:00</td>\n",
       "      <td>05:15:00</td>\n",
       "      <td>LINEA_A</td>\n",
       "      <td>LINEA_A_LIMA_S_TURN03</td>\n",
       "      <td>LIMA</td>\n",
       "      <td>1</td>\n",
       "      <td>0</td>\n",
       "      <td>0</td>\n",
       "      <td>1</td>\n",
       "    </tr>\n",
       "    <tr>\n",
       "      <th>201601</th>\n",
       "      <td>02/01/2016</td>\n",
       "      <td>05:00:00</td>\n",
       "      <td>05:15:00</td>\n",
       "      <td>LINEA_A</td>\n",
       "      <td>LINEA_A_RJANEIRO_S_TURN01</td>\n",
       "      <td>RIO DE JANEIRO</td>\n",
       "      <td>1</td>\n",
       "      <td>0</td>\n",
       "      <td>0</td>\n",
       "      <td>1</td>\n",
       "    </tr>\n",
       "    <tr>\n",
       "      <th>201601</th>\n",
       "      <td>02/01/2016</td>\n",
       "      <td>05:00:00</td>\n",
       "      <td>05:15:00</td>\n",
       "      <td>LINEA_A</td>\n",
       "      <td>LINEA_A_SANPEDRITO_ESTE_TURN05</td>\n",
       "      <td>SAN PEDRITO</td>\n",
       "      <td>0</td>\n",
       "      <td>0</td>\n",
       "      <td>0</td>\n",
       "      <td>0</td>\n",
       "    </tr>\n",
       "    <tr>\n",
       "      <th>201601</th>\n",
       "      <td>02/01/2016</td>\n",
       "      <td>05:00:00</td>\n",
       "      <td>05:15:00</td>\n",
       "      <td>LINEA_A</td>\n",
       "      <td>LINEA_A_SANPEDRITO_OESTE_TURN02</td>\n",
       "      <td>SAN PEDRITO</td>\n",
       "      <td>1</td>\n",
       "      <td>0</td>\n",
       "      <td>0</td>\n",
       "      <td>1</td>\n",
       "    </tr>\n",
       "  </tbody>\n",
       "</table>\n",
       "</div>"
      ],
      "text/plain": [
       "              FECHA     DESDE     HASTA    LINEA  \\\n",
       "PERIODO                                            \n",
       "201601   02/01/2016  05:00:00  05:15:00  LINEA_A   \n",
       "201601   02/01/2016  05:00:00  05:15:00  LINEA_A   \n",
       "201601   02/01/2016  05:00:00  05:15:00  LINEA_A   \n",
       "201601   02/01/2016  05:00:00  05:15:00  LINEA_A   \n",
       "201601   02/01/2016  05:00:00  05:15:00  LINEA_A   \n",
       "\n",
       "                                MOLINETE        ESTACION  PAX_PAGOS  \\\n",
       "PERIODO                                                               \n",
       "201601         LINEA_A_CARABOBO_E_TURN03        CARABOBO          1   \n",
       "201601             LINEA_A_LIMA_S_TURN03            LIMA          1   \n",
       "201601         LINEA_A_RJANEIRO_S_TURN01  RIO DE JANEIRO          1   \n",
       "201601    LINEA_A_SANPEDRITO_ESTE_TURN05     SAN PEDRITO          0   \n",
       "201601   LINEA_A_SANPEDRITO_OESTE_TURN02     SAN PEDRITO          1   \n",
       "\n",
       "         PAX_PASES_PAGOS  PAX_FRANQ  TOTAL  \n",
       "PERIODO                                     \n",
       "201601                 0          0      1  \n",
       "201601                 0          0      1  \n",
       "201601                 0          0      1  \n",
       "201601                 0          0      0  \n",
       "201601                 0          0      1  "
      ]
     },
     "execution_count": 3,
     "metadata": {},
     "output_type": "execute_result"
    }
   ],
   "source": [
    "# visualizar en este bloque de codigo las primeras 5 filas del dataset importado.\n",
    "molinetes16.head()"
   ]
  },
  {
   "cell_type": "markdown",
   "metadata": {
    "colab_type": "text",
    "id": "FbZLT1QtyrhO"
   },
   "source": [
    "**Asignacion 04:** imprimir en pantalla utilizando el comando \"print\" la cantidad de filas y renglones que tiene este nuevo dataset."
   ]
  },
  {
   "cell_type": "code",
   "execution_count": 4,
   "metadata": {
    "colab": {},
    "colab_type": "code",
    "id": "geuz_pKayrhP"
   },
   "outputs": [
    {
     "name": "stdout",
     "output_type": "stream",
     "text": [
      "Este bloque de código tiene : 11542333 filas y 10 columnas.\n"
     ]
    }
   ],
   "source": [
    "# imprimir en pantalla utilizando este bloque de codigo la cantidad de filas y renglones que tiene el dataset.\n",
    "filas=np.shape(molinetes16)[0]\n",
    "columnas=np.shape(molinetes16)[1]\n",
    "\n",
    "print('Este bloque de código tiene : '+ str(filas) +' filas y '+ str(columnas) + ' columnas.')"
   ]
  },
  {
   "cell_type": "markdown",
   "metadata": {
    "colab_type": "text",
    "id": "h2FTyHMiyrhW"
   },
   "source": [
    "**Asignacion 05:** revisar si existe alguna columna que tenga valores faltantes o nulos (NaNs), luego imprimir en pantalla el reporte de que columnas tienen valores faltantes."
   ]
  },
  {
   "cell_type": "code",
   "execution_count": 5,
   "metadata": {
    "colab": {},
    "colab_type": "code",
    "id": "ywxfjEpWyrhX"
   },
   "outputs": [
    {
     "data": {
      "text/plain": [
       "FECHA              False\n",
       "DESDE              False\n",
       "HASTA              False\n",
       "LINEA              False\n",
       "MOLINETE           False\n",
       "ESTACION           False\n",
       "PAX_PAGOS          False\n",
       "PAX_PASES_PAGOS    False\n",
       "PAX_FRANQ          False\n",
       "TOTAL              False\n",
       "dtype: bool"
      ]
     },
     "execution_count": 5,
     "metadata": {},
     "output_type": "execute_result"
    }
   ],
   "source": [
    "# Revisar que columnas tienen valores faltantes en el dataset molinetes16\n",
    "col_nulls=molinetes16.isnull().any()\n",
    "col_nulls"
   ]
  },
  {
   "cell_type": "markdown",
   "metadata": {
    "colab_type": "text",
    "id": "cW0kGzwUyrhd"
   },
   "source": [
    "**Asignacion 06:** Guardar en una variable llamada \"cols\" las columnas del dataframe \"molinetes16\"."
   ]
  },
  {
   "cell_type": "code",
   "execution_count": 6,
   "metadata": {
    "colab": {},
    "colab_type": "code",
    "id": "kp4_6Jtgyrhf"
   },
   "outputs": [
    {
     "data": {
      "text/plain": [
       "Index(['FECHA', 'DESDE', 'HASTA', 'LINEA', 'MOLINETE', 'ESTACION', 'PAX_PAGOS',\n",
       "       'PAX_PASES_PAGOS', 'PAX_FRANQ', 'TOTAL'],\n",
       "      dtype='object')"
      ]
     },
     "execution_count": 6,
     "metadata": {},
     "output_type": "execute_result"
    }
   ],
   "source": [
    "# Guardar en este bloque de codigo las columnas del dataframe \"molinetes16\".\n",
    "cols=molinetes16.columns\n",
    "cols"
   ]
  },
  {
   "cell_type": "markdown",
   "metadata": {
    "colab_type": "text",
    "id": "spIhukloyrhm"
   },
   "source": [
    "**Asignacion 07:** Guardar en una variable llamada \"instancias\" los indices del dataframe \"molinetes16\"."
   ]
  },
  {
   "cell_type": "code",
   "execution_count": 7,
   "metadata": {
    "colab": {},
    "colab_type": "code",
    "id": "2P5qgZyhyrhn"
   },
   "outputs": [
    {
     "data": {
      "text/plain": [
       "Int64Index([201601, 201601, 201601, 201601, 201601, 201601, 201601, 201601,\n",
       "            201601, 201601,\n",
       "            ...\n",
       "            201612, 201612, 201612, 201612, 201612, 201612, 201612, 201612,\n",
       "            201612, 201612],\n",
       "           dtype='int64', name='PERIODO', length=11542333)"
      ]
     },
     "execution_count": 7,
     "metadata": {},
     "output_type": "execute_result"
    }
   ],
   "source": [
    "# Guardar en este bloque de codigo los nombres de los indices del dataframe \"molinetes16\".\n",
    "instancias=molinetes16.index\n",
    "instancias"
   ]
  },
  {
   "cell_type": "markdown",
   "metadata": {
    "colab_type": "text",
    "id": "uRkP5LMEyrhu"
   },
   "source": [
    "**Asignacion 08:** filtrar el dataframe \"molinetes16\" por aquellas instancias que correspondan a la Linea D y guardar esos resultados en un nuevo dataframe que se llame \"molinetes_d\"."
   ]
  },
  {
   "cell_type": "code",
   "execution_count": 8,
   "metadata": {
    "colab": {},
    "colab_type": "code",
    "id": "yII6whxKyrhv"
   },
   "outputs": [
    {
     "data": {
      "text/html": [
       "<div>\n",
       "<style scoped>\n",
       "    .dataframe tbody tr th:only-of-type {\n",
       "        vertical-align: middle;\n",
       "    }\n",
       "\n",
       "    .dataframe tbody tr th {\n",
       "        vertical-align: top;\n",
       "    }\n",
       "\n",
       "    .dataframe thead th {\n",
       "        text-align: right;\n",
       "    }\n",
       "</style>\n",
       "<table border=\"1\" class=\"dataframe\">\n",
       "  <thead>\n",
       "    <tr style=\"text-align: right;\">\n",
       "      <th></th>\n",
       "      <th>FECHA</th>\n",
       "      <th>DESDE</th>\n",
       "      <th>HASTA</th>\n",
       "      <th>LINEA</th>\n",
       "      <th>MOLINETE</th>\n",
       "      <th>ESTACION</th>\n",
       "      <th>PAX_PAGOS</th>\n",
       "      <th>PAX_PASES_PAGOS</th>\n",
       "      <th>PAX_FRANQ</th>\n",
       "      <th>TOTAL</th>\n",
       "    </tr>\n",
       "    <tr>\n",
       "      <th>PERIODO</th>\n",
       "      <th></th>\n",
       "      <th></th>\n",
       "      <th></th>\n",
       "      <th></th>\n",
       "      <th></th>\n",
       "      <th></th>\n",
       "      <th></th>\n",
       "      <th></th>\n",
       "      <th></th>\n",
       "      <th></th>\n",
       "    </tr>\n",
       "  </thead>\n",
       "  <tbody>\n",
       "    <tr>\n",
       "      <th>201601</th>\n",
       "      <td>02/01/2016</td>\n",
       "      <td>05:00:00</td>\n",
       "      <td>05:15:00</td>\n",
       "      <td>LINEA_D</td>\n",
       "      <td>LINEA_D_AGUERO_TURN01</td>\n",
       "      <td>AGUERO</td>\n",
       "      <td>1</td>\n",
       "      <td>0</td>\n",
       "      <td>0</td>\n",
       "      <td>1</td>\n",
       "    </tr>\n",
       "    <tr>\n",
       "      <th>201601</th>\n",
       "      <td>02/01/2016</td>\n",
       "      <td>05:00:00</td>\n",
       "      <td>05:15:00</td>\n",
       "      <td>LINEA_D</td>\n",
       "      <td>LINEA_D_CATEDRAL_O_TURN02</td>\n",
       "      <td>CATEDRAL</td>\n",
       "      <td>1</td>\n",
       "      <td>0</td>\n",
       "      <td>0</td>\n",
       "      <td>1</td>\n",
       "    </tr>\n",
       "    <tr>\n",
       "      <th>201601</th>\n",
       "      <td>02/01/2016</td>\n",
       "      <td>05:00:00</td>\n",
       "      <td>05:15:00</td>\n",
       "      <td>LINEA_D</td>\n",
       "      <td>LINEA_D_FMEDICINA_S_TURN02</td>\n",
       "      <td>FACULTAD DE MEDICINA</td>\n",
       "      <td>1</td>\n",
       "      <td>0</td>\n",
       "      <td>0</td>\n",
       "      <td>1</td>\n",
       "    </tr>\n",
       "    <tr>\n",
       "      <th>201601</th>\n",
       "      <td>02/01/2016</td>\n",
       "      <td>05:00:00</td>\n",
       "      <td>05:15:00</td>\n",
       "      <td>LINEA_D</td>\n",
       "      <td>LINEA_D_PALERMO_TURN02</td>\n",
       "      <td>PALERMO</td>\n",
       "      <td>2</td>\n",
       "      <td>0</td>\n",
       "      <td>0</td>\n",
       "      <td>2</td>\n",
       "    </tr>\n",
       "    <tr>\n",
       "      <th>201601</th>\n",
       "      <td>02/01/2016</td>\n",
       "      <td>05:00:00</td>\n",
       "      <td>05:15:00</td>\n",
       "      <td>LINEA_D</td>\n",
       "      <td>LINEA_D_CARRANZA_TURN02</td>\n",
       "      <td>MINISTRO CARRANZA</td>\n",
       "      <td>1</td>\n",
       "      <td>0</td>\n",
       "      <td>0</td>\n",
       "      <td>1</td>\n",
       "    </tr>\n",
       "    <tr>\n",
       "      <th>...</th>\n",
       "      <td>...</td>\n",
       "      <td>...</td>\n",
       "      <td>...</td>\n",
       "      <td>...</td>\n",
       "      <td>...</td>\n",
       "      <td>...</td>\n",
       "      <td>...</td>\n",
       "      <td>...</td>\n",
       "      <td>...</td>\n",
       "      <td>...</td>\n",
       "    </tr>\n",
       "    <tr>\n",
       "      <th>201612</th>\n",
       "      <td>31/12/2016</td>\n",
       "      <td>09:45:00</td>\n",
       "      <td>10:00:00</td>\n",
       "      <td>LINEA_D</td>\n",
       "      <td>LINEA_D_CONGRESOTUC_S_TURN01</td>\n",
       "      <td>CONGRESO DE TUCUMAN</td>\n",
       "      <td>3</td>\n",
       "      <td>0</td>\n",
       "      <td>1</td>\n",
       "      <td>4</td>\n",
       "    </tr>\n",
       "    <tr>\n",
       "      <th>201612</th>\n",
       "      <td>31/12/2016</td>\n",
       "      <td>09:45:00</td>\n",
       "      <td>10:00:00</td>\n",
       "      <td>LINEA_D</td>\n",
       "      <td>LINEA_D_OLLEROS_ESTE_TURN04</td>\n",
       "      <td>OLLEROS</td>\n",
       "      <td>0</td>\n",
       "      <td>0</td>\n",
       "      <td>3</td>\n",
       "      <td>3</td>\n",
       "    </tr>\n",
       "    <tr>\n",
       "      <th>201612</th>\n",
       "      <td>31/12/2016</td>\n",
       "      <td>09:45:00</td>\n",
       "      <td>10:00:00</td>\n",
       "      <td>LINEA_D</td>\n",
       "      <td>LINEA_D_OLLEROS_OESTE_TURN01</td>\n",
       "      <td>OLLEROS</td>\n",
       "      <td>2</td>\n",
       "      <td>0</td>\n",
       "      <td>0</td>\n",
       "      <td>2</td>\n",
       "    </tr>\n",
       "    <tr>\n",
       "      <th>201612</th>\n",
       "      <td>31/12/2016</td>\n",
       "      <td>09:45:00</td>\n",
       "      <td>10:00:00</td>\n",
       "      <td>LINEA_D</td>\n",
       "      <td>LINEA_D_SCAL_ORTIZ_NORTE_TURN02</td>\n",
       "      <td>SCALABRINI ORTIZ</td>\n",
       "      <td>8</td>\n",
       "      <td>0</td>\n",
       "      <td>0</td>\n",
       "      <td>8</td>\n",
       "    </tr>\n",
       "    <tr>\n",
       "      <th>201612</th>\n",
       "      <td>31/12/2016</td>\n",
       "      <td>09:45:00</td>\n",
       "      <td>10:00:00</td>\n",
       "      <td>LINEA_D</td>\n",
       "      <td>LINEA_D_SCAL_ORTIZ_SUR_TURN02</td>\n",
       "      <td>SCALABRINI ORTIZ</td>\n",
       "      <td>11</td>\n",
       "      <td>1</td>\n",
       "      <td>0</td>\n",
       "      <td>12</td>\n",
       "    </tr>\n",
       "  </tbody>\n",
       "</table>\n",
       "<p>2547838 rows × 10 columns</p>\n",
       "</div>"
      ],
      "text/plain": [
       "              FECHA     DESDE     HASTA    LINEA  \\\n",
       "PERIODO                                            \n",
       "201601   02/01/2016  05:00:00  05:15:00  LINEA_D   \n",
       "201601   02/01/2016  05:00:00  05:15:00  LINEA_D   \n",
       "201601   02/01/2016  05:00:00  05:15:00  LINEA_D   \n",
       "201601   02/01/2016  05:00:00  05:15:00  LINEA_D   \n",
       "201601   02/01/2016  05:00:00  05:15:00  LINEA_D   \n",
       "...             ...       ...       ...      ...   \n",
       "201612   31/12/2016  09:45:00  10:00:00  LINEA_D   \n",
       "201612   31/12/2016  09:45:00  10:00:00  LINEA_D   \n",
       "201612   31/12/2016  09:45:00  10:00:00  LINEA_D   \n",
       "201612   31/12/2016  09:45:00  10:00:00  LINEA_D   \n",
       "201612   31/12/2016  09:45:00  10:00:00  LINEA_D   \n",
       "\n",
       "                                MOLINETE              ESTACION  PAX_PAGOS  \\\n",
       "PERIODO                                                                     \n",
       "201601             LINEA_D_AGUERO_TURN01                AGUERO          1   \n",
       "201601         LINEA_D_CATEDRAL_O_TURN02              CATEDRAL          1   \n",
       "201601        LINEA_D_FMEDICINA_S_TURN02  FACULTAD DE MEDICINA          1   \n",
       "201601            LINEA_D_PALERMO_TURN02               PALERMO          2   \n",
       "201601           LINEA_D_CARRANZA_TURN02     MINISTRO CARRANZA          1   \n",
       "...                                  ...                   ...        ...   \n",
       "201612      LINEA_D_CONGRESOTUC_S_TURN01   CONGRESO DE TUCUMAN          3   \n",
       "201612       LINEA_D_OLLEROS_ESTE_TURN04               OLLEROS          0   \n",
       "201612      LINEA_D_OLLEROS_OESTE_TURN01               OLLEROS          2   \n",
       "201612   LINEA_D_SCAL_ORTIZ_NORTE_TURN02      SCALABRINI ORTIZ          8   \n",
       "201612     LINEA_D_SCAL_ORTIZ_SUR_TURN02      SCALABRINI ORTIZ         11   \n",
       "\n",
       "         PAX_PASES_PAGOS  PAX_FRANQ  TOTAL  \n",
       "PERIODO                                     \n",
       "201601                 0          0      1  \n",
       "201601                 0          0      1  \n",
       "201601                 0          0      1  \n",
       "201601                 0          0      2  \n",
       "201601                 0          0      1  \n",
       "...                  ...        ...    ...  \n",
       "201612                 0          1      4  \n",
       "201612                 0          3      3  \n",
       "201612                 0          0      2  \n",
       "201612                 0          0      8  \n",
       "201612                 1          0     12  \n",
       "\n",
       "[2547838 rows x 10 columns]"
      ]
     },
     "execution_count": 8,
     "metadata": {},
     "output_type": "execute_result"
    }
   ],
   "source": [
    "# en este bloque de codigo crear el dataframe \"molinetes_d\".\n",
    "molinetes_d=molinetes16.loc[molinetes16.LINEA == 'LINEA_D']\n",
    "molinetes_d"
   ]
  },
  {
   "cell_type": "markdown",
   "metadata": {
    "colab_type": "text",
    "id": "2EEMrw8tyrh0"
   },
   "source": [
    "**Asignacion 09:** Visualizar utilizando la función Countplot de Seaborn, cuantos viajes de molinete hay por estación para la linea D."
   ]
  },
  {
   "cell_type": "code",
   "execution_count": 9,
   "metadata": {
    "colab": {},
    "colab_type": "code",
    "id": "6htNDRlUyrh2"
   },
   "outputs": [
    {
     "data": {
      "image/png": "[encoded data removed]",
      "text/plain": [
       "<Figure size 720x432 with 1 Axes>"
      ]
     },
     "metadata": {
      "needs_background": "light"
     },
     "output_type": "display_data"
    }
   ],
   "source": [
    "# Visualizar lo solicitado en este bloque de codigo\n",
    "sns.set_context(\"talk\")\n",
    "plt.figure(figsize=(10,6))\n",
    "ax=sns.countplot(x='ESTACION', data=molinetes_d)\n",
    "ax.set_xticklabels(ax.get_xticklabels(), rotation=40, ha=\"right\")\n",
    "plt.title(\"Cantidad de viajes por estación de la línea D durante 2016\")\n",
    "plt.show()"
   ]
  },
  {
   "cell_type": "markdown",
   "metadata": {
    "colab_type": "text",
    "id": "WAErNd2cyrh7"
   },
   "source": [
    "**Asignacion 10:** Calcular la media, minimo, maximo, cuartiles, de la columna 'TOTAL' del dataframe \"molinetes_d\". "
   ]
  },
  {
   "cell_type": "code",
   "execution_count": 10,
   "metadata": {
    "colab": {},
    "colab_type": "code",
    "id": "4k_BypkJyrh8"
   },
   "outputs": [
    {
     "data": {
      "text/plain": [
       "count    2.547838e+06\n",
       "mean     3.257696e+01\n",
       "std      3.188915e+01\n",
       "min      0.000000e+00\n",
       "25%      7.000000e+00\n",
       "50%      2.300000e+01\n",
       "75%      4.900000e+01\n",
       "max      3.290000e+02\n",
       "Name: TOTAL, dtype: float64"
      ]
     },
     "execution_count": 10,
     "metadata": {},
     "output_type": "execute_result"
    }
   ],
   "source": [
    "# Calcular las estadisticas descriptivas en este bloque de codigo.\n",
    "molinetes_d.TOTAL.describe()"
   ]
  }
 ],
 "metadata": {
  "colab": {
   "name": "clusterai_2020_clase00_asignacion_subtes.ipynb",
   "provenance": []
  },
  "kernelspec": {
   "display_name": "Python 3",
   "language": "python",
   "name": "python3"
  },
  "language_info": {
   "codemirror_mode": {
    "name": "ipython",
    "version": 3
   },
   "file_extension": ".py",
   "mimetype": "text/x-python",
   "name": "python",
   "nbconvert_exporter": "python",
   "pygments_lexer": "ipython3",
   "version": "3.8.3"
  }
 },
 "nbformat": 4,
 "nbformat_minor": 1
}
