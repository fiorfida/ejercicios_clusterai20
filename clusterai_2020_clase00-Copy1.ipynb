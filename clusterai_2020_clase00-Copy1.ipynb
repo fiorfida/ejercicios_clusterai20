{
 "cells": [
  {
   "cell_type": "markdown",
   "metadata": {
    "colab_type": "text",
    "id": "oLm2vhVexycL"
   },
   "source": [
    "# ClusterAI 2020\n",
    "# Ciencia de Datos - Ingenieria Industrial UTN BA\n",
    "# Curso I5521"
   ]
  },
  {
   "cell_type": "markdown",
   "metadata": {
    "colab_type": "text",
    "id": "SLIwqxD4xycP"
   },
   "source": [
    "Docente: Martín Palazzo"
   ]
  },
  {
   "cell_type": "markdown",
   "metadata": {
    "colab_type": "text",
    "id": "DBdQHc5CxycS"
   },
   "source": [
    "# clase_00: Importar data, describirla y visualizarla."
   ]
  },
  {
   "cell_type": "markdown",
   "metadata": {
    "colab_type": "text",
    "id": "EyOlnbMfxycU"
   },
   "source": [
    "**Objetivo:**En esta primera clase aprenderemos a importar archivos .csv a python. Luego procederemos a realizar el adecuado pre-procesamiento y limpieza de datos con el fin de obtener un dataset acorde para ser analizado. Finalmente realizaremos un análisis exploratorio de los datos, con el fin de obtener estadísticas descriptivas y visualizaciones."
   ]
  },
  {
   "cell_type": "markdown",
   "metadata": {
    "colab_type": "text",
    "id": "PAJOwsTyxycV"
   },
   "source": [
    "## **Comencemos:**"
   ]
  },
  {
   "cell_type": "markdown",
   "metadata": {
    "colab_type": "text",
    "id": "KEieafISxycY"
   },
   "source": [
    "**Importamos las Librerías necesarias:** Utilizaremos Numpy para realizar calculos matriciales, pandas para manejar los datos y almacenarlos, y matplotlib junto con Seaborn para visualizar."
   ]
  },
  {
   "cell_type": "code",
   "execution_count": 1,
   "metadata": {
    "colab": {
     "base_uri": "https://localhost:8080/",
     "height": 51
    },
    "colab_type": "code",
    "executionInfo": {
     "elapsed": 1678,
     "status": "ok",
     "timestamp": 1599318043798,
     "user": {
      "displayName": "Matias Callara",
      "photoUrl": "https://lh3.googleusercontent.com/a-/AOh14GgPTxU30M6WJGjxxsl1WHOpFgnH2tdiZyM3qzeXDA=s64",
      "userId": "18070302972341276271"
     },
     "user_tz": -120
    },
    "id": "fVyMIca1xycb",
    "outputId": "d8354f8a-0523-41a1-8b52-ae0eba0bd562"
   },
   "outputs": [],
   "source": [
    "# importamos las librerías necesarias para trabajar.\n",
    "import numpy as np\n",
    "import pandas as pd\n",
    "import matplotlib.pyplot as plt\n",
    "import seaborn as sns"
   ]
  },
  {
   "cell_type": "markdown",
   "metadata": {
    "colab_type": "text",
    "id": "iJSZ9qxHxyck"
   },
   "source": [
    "# Read .csv"
   ]
  },
  {
   "cell_type": "markdown",
   "metadata": {
    "colab_type": "text",
    "collapsed": true,
    "id": "_WFIa65jxycl"
   },
   "source": [
    "**Read_CSV:** Descargamos de https://data.buenosaires.gob.ar/dataset/subte-viajes-molinetes el dataset de usuarios de subte por molinete del año 2017. Luego con el comando de Pandas \"pd.read_csv\" indicamos donde se ubica el dataset a ser leido. Una vez leido guardamos la tabla como un DataFrame de Pandas en el elemento \"molinetes\". Solicitaremos que el indice de nuestro dataframe importado sea la columna \"PERIODO\" del archvo .csv que manejamos."
   ]
  },
  {
   "cell_type": "markdown",
   "metadata": {
    "colab_type": "text",
    "id": "i9u1eMKmxyc2"
   },
   "source": [
    "Podemos importar el archivo .csv"
   ]
  },
  {
   "cell_type": "code",
   "execution_count": 2,
   "metadata": {
    "colab": {},
    "colab_type": "code",
    "id": "9kPRhR02xyc2"
   },
   "outputs": [],
   "source": [
    "# importante detallar que el delimiter indica como estan separadas las columnas en el dataframe.\n",
    "#molinetes = pd.read_csv('molinetes_2017.csv', delimiter=';')"
   ]
  },
  {
   "cell_type": "markdown",
   "metadata": {
    "colab_type": "text",
    "id": "9v32d9tbxyc6"
   },
   "source": [
    "O podemos importar directamente el archivo .zip sin tener que descomprimirlo."
   ]
  },
  {
   "cell_type": "code",
   "execution_count": 3,
   "metadata": {
    "colab": {},
    "colab_type": "code",
    "id": "xhn633EJxyc7"
   },
   "outputs": [],
   "source": [
    "molinetes = pd.read_csv(r'C:\\Users\\fiorf\\OneDrive\\UTN\\Ciencia de Datos\\datasets\\molinetes-2017\\molinetes_2017.csv', delimiter=';')"
   ]
  },
  {
   "cell_type": "markdown",
   "metadata": {
    "colab_type": "text",
    "id": "7_H9VuaWxydA"
   },
   "source": [
    "# Visualizar el dataset importado\n",
    "con el comando .head() podemos ver en pantalla las primeras filas y del dataframe"
   ]
  },
  {
   "cell_type": "code",
   "execution_count": 4,
   "metadata": {
    "colab": {},
    "colab_type": "code",
    "id": "twLubEMoxydA",
    "outputId": "eba81a8f-7017-44d6-a13d-fa4244bc6af3"
   },
   "outputs": [
    {
     "data": {
      "text/html": [
       "<div>\n",
       "<style scoped>\n",
       "    .dataframe tbody tr th:only-of-type {\n",
       "        vertical-align: middle;\n",
       "    }\n",
       "\n",
       "    .dataframe tbody tr th {\n",
       "        vertical-align: top;\n",
       "    }\n",
       "\n",
       "    .dataframe thead th {\n",
       "        text-align: right;\n",
       "    }\n",
       "</style>\n",
       "<table border=\"1\" class=\"dataframe\">\n",
       "  <thead>\n",
       "    <tr style=\"text-align: right;\">\n",
       "      <th></th>\n",
       "      <th>PERIODO</th>\n",
       "      <th>FECHA</th>\n",
       "      <th>DESDE</th>\n",
       "      <th>HASTA</th>\n",
       "      <th>LINEA</th>\n",
       "      <th>MOLINETE</th>\n",
       "      <th>ESTACION</th>\n",
       "      <th>PAX_PAGOS</th>\n",
       "      <th>PAX_PASES_PAGOS</th>\n",
       "      <th>PAX_FRANQ</th>\n",
       "      <th>TOTAL</th>\n",
       "      <th>ID</th>\n",
       "    </tr>\n",
       "  </thead>\n",
       "  <tbody>\n",
       "    <tr>\n",
       "      <th>0</th>\n",
       "      <td>201701</td>\n",
       "      <td>01/01/2017</td>\n",
       "      <td>08:00:00</td>\n",
       "      <td>08:15:00</td>\n",
       "      <td>LINEA_H</td>\n",
       "      <td>LINEA_H_CASEROS_SUR_TURN02</td>\n",
       "      <td>CASEROS</td>\n",
       "      <td>1</td>\n",
       "      <td>0</td>\n",
       "      <td>0</td>\n",
       "      <td>1</td>\n",
       "      <td>1</td>\n",
       "    </tr>\n",
       "    <tr>\n",
       "      <th>1</th>\n",
       "      <td>201701</td>\n",
       "      <td>01/01/2017</td>\n",
       "      <td>08:00:00</td>\n",
       "      <td>08:15:00</td>\n",
       "      <td>LINEA_H</td>\n",
       "      <td>LINEA_H_CASEROS_NORTE_TURN02</td>\n",
       "      <td>CASEROS</td>\n",
       "      <td>1</td>\n",
       "      <td>0</td>\n",
       "      <td>0</td>\n",
       "      <td>1</td>\n",
       "      <td>1</td>\n",
       "    </tr>\n",
       "    <tr>\n",
       "      <th>2</th>\n",
       "      <td>201701</td>\n",
       "      <td>01/01/2017</td>\n",
       "      <td>08:15:00</td>\n",
       "      <td>08:30:00</td>\n",
       "      <td>LINEA_H</td>\n",
       "      <td>LINEA_H_CASEROS_SUR_TURN02</td>\n",
       "      <td>CASEROS</td>\n",
       "      <td>2</td>\n",
       "      <td>0</td>\n",
       "      <td>0</td>\n",
       "      <td>2</td>\n",
       "      <td>1</td>\n",
       "    </tr>\n",
       "    <tr>\n",
       "      <th>3</th>\n",
       "      <td>201701</td>\n",
       "      <td>01/01/2017</td>\n",
       "      <td>08:15:00</td>\n",
       "      <td>08:30:00</td>\n",
       "      <td>LINEA_H</td>\n",
       "      <td>LINEA_H_CASEROS_SUR_TURN01</td>\n",
       "      <td>CASEROS</td>\n",
       "      <td>1</td>\n",
       "      <td>0</td>\n",
       "      <td>0</td>\n",
       "      <td>1</td>\n",
       "      <td>1</td>\n",
       "    </tr>\n",
       "    <tr>\n",
       "      <th>4</th>\n",
       "      <td>201701</td>\n",
       "      <td>01/01/2017</td>\n",
       "      <td>08:30:00</td>\n",
       "      <td>08:45:00</td>\n",
       "      <td>LINEA_H</td>\n",
       "      <td>LINEA_H_CASEROS_NORTE_TURN01</td>\n",
       "      <td>CASEROS</td>\n",
       "      <td>2</td>\n",
       "      <td>0</td>\n",
       "      <td>0</td>\n",
       "      <td>2</td>\n",
       "      <td>1</td>\n",
       "    </tr>\n",
       "  </tbody>\n",
       "</table>\n",
       "</div>"
      ],
      "text/plain": [
       "   PERIODO       FECHA     DESDE     HASTA    LINEA  \\\n",
       "0   201701  01/01/2017  08:00:00  08:15:00  LINEA_H   \n",
       "1   201701  01/01/2017  08:00:00  08:15:00  LINEA_H   \n",
       "2   201701  01/01/2017  08:15:00  08:30:00  LINEA_H   \n",
       "3   201701  01/01/2017  08:15:00  08:30:00  LINEA_H   \n",
       "4   201701  01/01/2017  08:30:00  08:45:00  LINEA_H   \n",
       "\n",
       "                       MOLINETE ESTACION  PAX_PAGOS  PAX_PASES_PAGOS  \\\n",
       "0    LINEA_H_CASEROS_SUR_TURN02  CASEROS          1                0   \n",
       "1  LINEA_H_CASEROS_NORTE_TURN02  CASEROS          1                0   \n",
       "2    LINEA_H_CASEROS_SUR_TURN02  CASEROS          2                0   \n",
       "3    LINEA_H_CASEROS_SUR_TURN01  CASEROS          1                0   \n",
       "4  LINEA_H_CASEROS_NORTE_TURN01  CASEROS          2                0   \n",
       "\n",
       "   PAX_FRANQ  TOTAL  ID  \n",
       "0          0      1   1  \n",
       "1          0      1   1  \n",
       "2          0      2   1  \n",
       "3          0      1   1  \n",
       "4          0      2   1  "
      ]
     },
     "execution_count": 4,
     "metadata": {},
     "output_type": "execute_result"
    }
   ],
   "source": [
    "molinetes.head()"
   ]
  },
  {
   "cell_type": "markdown",
   "metadata": {
    "colab_type": "text",
    "id": "30mZqyVExydF"
   },
   "source": [
    "# comando shape\n",
    "si queremos saber cuantos renglones y columnas tiene el objeto en cuestion, utilizamos el comando de numpy \"shape\".Asi podemos ver que nuestro dataset posee mas de 11 millones de renglones y 12 columnas"
   ]
  },
  {
   "cell_type": "code",
   "execution_count": 5,
   "metadata": {
    "colab": {},
    "colab_type": "code",
    "id": "BS6eDVYIxydF",
    "outputId": "55b933df-e07d-49cc-98bb-195c9d9870c6"
   },
   "outputs": [
    {
     "data": {
      "text/plain": [
       "(11938476, 12)"
      ]
     },
     "execution_count": 5,
     "metadata": {},
     "output_type": "execute_result"
    }
   ],
   "source": [
    "# comando shape en el dataframe importado \"molinetes\"\n",
    "np.shape(molinetes)"
   ]
  },
  {
   "cell_type": "code",
   "execution_count": 6,
   "metadata": {
    "colab": {},
    "colab_type": "code",
    "id": "q30rMWXYxydL",
    "outputId": "b0bc5c19-c044-489b-8c48-c753fa82f21f"
   },
   "outputs": [
    {
     "name": "stdout",
     "output_type": "stream",
     "text": [
      "El dataset importado tiene 11938476 renglones y 12 columnas\n"
     ]
    }
   ],
   "source": [
    "# Imprimimos en pantalla un reporte de un renglón sobre las dimensiones de nuestro dataframe.\n",
    "# Ver que utilizamos la función de numpy \"shape\".\n",
    "print(\"El dataset importado tiene \"+ str(np.shape(molinetes)[0]) + \" renglones y \" + str(np.shape(molinetes)[1]) + \" columnas\")"
   ]
  },
  {
   "cell_type": "markdown",
   "metadata": {
    "colab_type": "text",
    "id": "EA45SuLDxydP"
   },
   "source": [
    "# Verificamos si existen columnas con valores faltantes"
   ]
  },
  {
   "cell_type": "code",
   "execution_count": 7,
   "metadata": {
    "colab": {},
    "colab_type": "code",
    "id": "64CpYhXpxydQ",
    "outputId": "f4cc02d1-2d31-44db-db15-b68a059e4668"
   },
   "outputs": [
    {
     "data": {
      "text/plain": [
       "PERIODO            False\n",
       "FECHA              False\n",
       "DESDE              False\n",
       "HASTA              False\n",
       "LINEA              False\n",
       "MOLINETE           False\n",
       "ESTACION           False\n",
       "PAX_PAGOS          False\n",
       "PAX_PASES_PAGOS    False\n",
       "PAX_FRANQ          False\n",
       "TOTAL              False\n",
       "ID                 False\n",
       "dtype: bool"
      ]
     },
     "execution_count": 7,
     "metadata": {},
     "output_type": "execute_result"
    }
   ],
   "source": [
    "# revisamos si existen columnas que contengan valores faltantes (NaNs)\n",
    "col_nulls = molinetes.isnull().any()\n",
    "col_nulls"
   ]
  },
  {
   "cell_type": "markdown",
   "metadata": {
    "colab_type": "text",
    "id": "CqShmYWpxydV"
   },
   "source": [
    "# Columnas e Indices en Pandas"
   ]
  },
  {
   "cell_type": "markdown",
   "metadata": {
    "colab_type": "text",
    "id": "g3YeijMvxydV"
   },
   "source": [
    "**Columnas e Indices en Pandas:** los dataframes de pandas se caracterizan por tener nombres explícitos por columna y por renglón (indice). Es decir que podemos llamar a un elemento (o varios) de un DataFrame por el nombre de su columna e índice."
   ]
  },
  {
   "cell_type": "code",
   "execution_count": 8,
   "metadata": {
    "colab": {},
    "colab_type": "code",
    "id": "Bv7uTWV5xydW",
    "outputId": "7810c70d-e9cb-471d-82ab-196cdfce4abd"
   },
   "outputs": [
    {
     "data": {
      "text/plain": [
       "Index(['PERIODO', 'FECHA', 'DESDE', 'HASTA', 'LINEA', 'MOLINETE', 'ESTACION',\n",
       "       'PAX_PAGOS', 'PAX_PASES_PAGOS', 'PAX_FRANQ', 'TOTAL', 'ID'],\n",
       "      dtype='object')"
      ]
     },
     "execution_count": 8,
     "metadata": {},
     "output_type": "execute_result"
    }
   ],
   "source": [
    "# Obtenemos los nombres de las columnas del dataframe Molinetes y lo guardamos en \"columnas_molinetes\"\n",
    "columnas_molinetes = molinetes.columns\n",
    "columnas_molinetes"
   ]
  },
  {
   "cell_type": "code",
   "execution_count": 9,
   "metadata": {
    "colab": {},
    "colab_type": "code",
    "id": "t63cTlfHxydc",
    "outputId": "14da1d76-6274-4186-ae3e-5ec11814cc6c"
   },
   "outputs": [
    {
     "data": {
      "text/plain": [
       "RangeIndex(start=0, stop=11938476, step=1)"
      ]
     },
     "execution_count": 9,
     "metadata": {},
     "output_type": "execute_result"
    }
   ],
   "source": [
    "# Obtenemos los nombres de los índices (renglones) del dataframe Molinetes y lo guardamos en \"instancias_molinetes\"\n",
    "instancias_molinetes = molinetes.index\n",
    "instancias_molinetes"
   ]
  },
  {
   "cell_type": "markdown",
   "metadata": {
    "colab_type": "text",
    "id": "1qfzY_wDxydl"
   },
   "source": [
    "# Seleccionar una sola columna de un dataframe\n",
    "Podremos seleccionar la o las columnas y renglones que quisiéramos para futuros análisis."
   ]
  },
  {
   "cell_type": "code",
   "execution_count": 10,
   "metadata": {
    "colab": {},
    "colab_type": "code",
    "id": "x0zzqGcfxydm",
    "outputId": "a6e73c11-a558-4950-c356-18697b3e2f26"
   },
   "outputs": [
    {
     "data": {
      "text/plain": [
       "0    LINEA_H\n",
       "1    LINEA_H\n",
       "2    LINEA_H\n",
       "3    LINEA_H\n",
       "4    LINEA_H\n",
       "Name: LINEA, dtype: object"
      ]
     },
     "execution_count": 10,
     "metadata": {},
     "output_type": "execute_result"
    }
   ],
   "source": [
    "# seleccionamos la columna LINEA de molinetes\n",
    "molinetes.LINEA.head(5)"
   ]
  },
  {
   "cell_type": "code",
   "execution_count": 11,
   "metadata": {
    "colab": {},
    "colab_type": "code",
    "id": "9_gZ45E6xydt",
    "outputId": "770b9b6f-90a5-4c67-b96f-aafb471fe67a"
   },
   "outputs": [
    {
     "data": {
      "text/plain": [
       "0    LINEA_H\n",
       "1    LINEA_H\n",
       "2    LINEA_H\n",
       "3    LINEA_H\n",
       "4    LINEA_H\n",
       "Name: LINEA, dtype: object"
      ]
     },
     "execution_count": 11,
     "metadata": {},
     "output_type": "execute_result"
    }
   ],
   "source": [
    "# ver que tambien podriamos haber utilizado corchetes para ingresar el nombre de la columna a seleccionar\n",
    "molinetes['LINEA'].head()"
   ]
  },
  {
   "cell_type": "markdown",
   "metadata": {
    "colab_type": "text",
    "id": "cRItJiUKxyd0"
   },
   "source": [
    "# Filtrar un dataframe por el valor de una columna"
   ]
  },
  {
   "cell_type": "markdown",
   "metadata": {
    "colab_type": "text",
    "id": "t8Kp2DiAxyd1"
   },
   "source": [
    "**Filtrar un dataframe por el valor de una columna:** Inicialmente filtraremos nuestro dataframe inicial \"molinetes\"por el valor \"LINEA_B\" de la columna \"LINEA\" y guardar el resultado en el dataframe \"molinetes_b\". "
   ]
  },
  {
   "cell_type": "markdown",
   "metadata": {
    "colab_type": "text",
    "id": "pO8F6s8zxyd2"
   },
   "source": [
    "Primero observamos que podemos aplicar una operación \"booleana\" donde la respuesta será True o False. De esta manera obtendremos un vector \"mascara\" donde indicará con True cada renglon de \"molinetes\" cuyo valor de la columna \"LINEA\" sea \"LINEA_B\"."
   ]
  },
  {
   "cell_type": "code",
   "execution_count": 12,
   "metadata": {
    "colab": {},
    "colab_type": "code",
    "id": "0W06E94Zxyd3",
    "outputId": "e9b5de6e-88f9-4d92-9635-263650632693"
   },
   "outputs": [
    {
     "data": {
      "text/plain": [
       "0           False\n",
       "1           False\n",
       "2           False\n",
       "3           False\n",
       "4           False\n",
       "            ...  \n",
       "11938471    False\n",
       "11938472    False\n",
       "11938473    False\n",
       "11938474    False\n",
       "11938475    False\n",
       "Name: LINEA, Length: 11938476, dtype: bool"
      ]
     },
     "execution_count": 12,
     "metadata": {},
     "output_type": "execute_result"
    }
   ],
   "source": [
    "(molinetes['LINEA'] == 'LINEA_B')"
   ]
  },
  {
   "cell_type": "markdown",
   "metadata": {
    "colab_type": "text",
    "id": "2BQUNfffxyd8"
   },
   "source": [
    "### Filtrar un dataframe por \".loc\""
   ]
  },
  {
   "cell_type": "markdown",
   "metadata": {
    "colab_type": "text",
    "id": "mnz6-wOyxyd9"
   },
   "source": [
    "Para poder filtrar con una máscara booleana al dataframe \"molinetes\" utilizaremos la sub-función \".loc\" que sirve para filtrar los dataframes de pandas de esta manera."
   ]
  },
  {
   "cell_type": "code",
   "execution_count": 13,
   "metadata": {
    "colab": {},
    "colab_type": "code",
    "id": "1-mvmolGxyd-",
    "outputId": "df1ed34a-90d6-443e-8c1a-020d09fb1e7c"
   },
   "outputs": [
    {
     "data": {
      "text/html": [
       "<div>\n",
       "<style scoped>\n",
       "    .dataframe tbody tr th:only-of-type {\n",
       "        vertical-align: middle;\n",
       "    }\n",
       "\n",
       "    .dataframe tbody tr th {\n",
       "        vertical-align: top;\n",
       "    }\n",
       "\n",
       "    .dataframe thead th {\n",
       "        text-align: right;\n",
       "    }\n",
       "</style>\n",
       "<table border=\"1\" class=\"dataframe\">\n",
       "  <thead>\n",
       "    <tr style=\"text-align: right;\">\n",
       "      <th></th>\n",
       "      <th>PERIODO</th>\n",
       "      <th>FECHA</th>\n",
       "      <th>DESDE</th>\n",
       "      <th>HASTA</th>\n",
       "      <th>LINEA</th>\n",
       "      <th>MOLINETE</th>\n",
       "      <th>ESTACION</th>\n",
       "      <th>PAX_PAGOS</th>\n",
       "      <th>PAX_PASES_PAGOS</th>\n",
       "      <th>PAX_FRANQ</th>\n",
       "      <th>TOTAL</th>\n",
       "      <th>ID</th>\n",
       "    </tr>\n",
       "  </thead>\n",
       "  <tbody>\n",
       "    <tr>\n",
       "      <th>2492243</th>\n",
       "      <td>201701</td>\n",
       "      <td>01/01/2017</td>\n",
       "      <td>08:00:00</td>\n",
       "      <td>08:15:00</td>\n",
       "      <td>LINEA_B</td>\n",
       "      <td>LINEA_B_FLORIDA_O_TURN01</td>\n",
       "      <td>FLORIDA</td>\n",
       "      <td>4</td>\n",
       "      <td>0</td>\n",
       "      <td>0</td>\n",
       "      <td>4</td>\n",
       "      <td>20</td>\n",
       "    </tr>\n",
       "    <tr>\n",
       "      <th>2492244</th>\n",
       "      <td>201701</td>\n",
       "      <td>01/01/2017</td>\n",
       "      <td>08:00:00</td>\n",
       "      <td>08:15:00</td>\n",
       "      <td>LINEA_B</td>\n",
       "      <td>LINEA_B_FLORIDA_O_TURN03</td>\n",
       "      <td>FLORIDA</td>\n",
       "      <td>3</td>\n",
       "      <td>0</td>\n",
       "      <td>0</td>\n",
       "      <td>3</td>\n",
       "      <td>20</td>\n",
       "    </tr>\n",
       "    <tr>\n",
       "      <th>2492245</th>\n",
       "      <td>201701</td>\n",
       "      <td>01/01/2017</td>\n",
       "      <td>08:00:00</td>\n",
       "      <td>08:15:00</td>\n",
       "      <td>LINEA_B</td>\n",
       "      <td>LINEA_B_FLORIDA_O_TURN02</td>\n",
       "      <td>FLORIDA</td>\n",
       "      <td>1</td>\n",
       "      <td>0</td>\n",
       "      <td>0</td>\n",
       "      <td>1</td>\n",
       "      <td>20</td>\n",
       "    </tr>\n",
       "    <tr>\n",
       "      <th>2492246</th>\n",
       "      <td>201701</td>\n",
       "      <td>01/01/2017</td>\n",
       "      <td>08:00:00</td>\n",
       "      <td>08:15:00</td>\n",
       "      <td>LINEA_B</td>\n",
       "      <td>LINEA_B_FLORIDA_O_TURN04</td>\n",
       "      <td>FLORIDA</td>\n",
       "      <td>1</td>\n",
       "      <td>0</td>\n",
       "      <td>0</td>\n",
       "      <td>1</td>\n",
       "      <td>20</td>\n",
       "    </tr>\n",
       "    <tr>\n",
       "      <th>2492247</th>\n",
       "      <td>201701</td>\n",
       "      <td>01/01/2017</td>\n",
       "      <td>08:15:00</td>\n",
       "      <td>08:30:00</td>\n",
       "      <td>LINEA_B</td>\n",
       "      <td>LINEA_B_FLORIDA_O_TURN01</td>\n",
       "      <td>FLORIDA</td>\n",
       "      <td>2</td>\n",
       "      <td>0</td>\n",
       "      <td>0</td>\n",
       "      <td>2</td>\n",
       "      <td>20</td>\n",
       "    </tr>\n",
       "    <tr>\n",
       "      <th>...</th>\n",
       "      <td>...</td>\n",
       "      <td>...</td>\n",
       "      <td>...</td>\n",
       "      <td>...</td>\n",
       "      <td>...</td>\n",
       "      <td>...</td>\n",
       "      <td>...</td>\n",
       "      <td>...</td>\n",
       "      <td>...</td>\n",
       "      <td>...</td>\n",
       "      <td>...</td>\n",
       "      <td>...</td>\n",
       "    </tr>\n",
       "    <tr>\n",
       "      <th>11938454</th>\n",
       "      <td>201712</td>\n",
       "      <td>31/12/2017</td>\n",
       "      <td>22:00:00</td>\n",
       "      <td>22:15:00</td>\n",
       "      <td>LINEA_B</td>\n",
       "      <td>LINEA_B_JMROSAS_OESTE_TURN02</td>\n",
       "      <td>ROSAS</td>\n",
       "      <td>1</td>\n",
       "      <td>0</td>\n",
       "      <td>0</td>\n",
       "      <td>1</td>\n",
       "      <td>81</td>\n",
       "    </tr>\n",
       "    <tr>\n",
       "      <th>11938455</th>\n",
       "      <td>201712</td>\n",
       "      <td>31/12/2017</td>\n",
       "      <td>22:00:00</td>\n",
       "      <td>22:15:00</td>\n",
       "      <td>LINEA_B</td>\n",
       "      <td>LINEA_B_LACROZE_O_TURN02</td>\n",
       "      <td>FEDERICO LACROZE</td>\n",
       "      <td>1</td>\n",
       "      <td>0</td>\n",
       "      <td>0</td>\n",
       "      <td>1</td>\n",
       "      <td>66</td>\n",
       "    </tr>\n",
       "    <tr>\n",
       "      <th>11938456</th>\n",
       "      <td>201712</td>\n",
       "      <td>31/12/2017</td>\n",
       "      <td>22:00:00</td>\n",
       "      <td>22:15:00</td>\n",
       "      <td>LINEA_B</td>\n",
       "      <td>LINEA_B_MALABIA_N_TURN02</td>\n",
       "      <td>MALABIA</td>\n",
       "      <td>1</td>\n",
       "      <td>0</td>\n",
       "      <td>0</td>\n",
       "      <td>1</td>\n",
       "      <td>29</td>\n",
       "    </tr>\n",
       "    <tr>\n",
       "      <th>11938457</th>\n",
       "      <td>201712</td>\n",
       "      <td>31/12/2017</td>\n",
       "      <td>22:00:00</td>\n",
       "      <td>22:15:00</td>\n",
       "      <td>LINEA_B</td>\n",
       "      <td>LINEA_B_PELLEGRINI_E_TURN07</td>\n",
       "      <td>CARLOS PELLEGRINI</td>\n",
       "      <td>8</td>\n",
       "      <td>0</td>\n",
       "      <td>0</td>\n",
       "      <td>8</td>\n",
       "      <td>21</td>\n",
       "    </tr>\n",
       "    <tr>\n",
       "      <th>11938458</th>\n",
       "      <td>201712</td>\n",
       "      <td>31/12/2017</td>\n",
       "      <td>22:00:00</td>\n",
       "      <td>22:15:00</td>\n",
       "      <td>LINEA_B</td>\n",
       "      <td>LINEA_B_URUGUAY_S_TURN02</td>\n",
       "      <td>URUGUAY</td>\n",
       "      <td>3</td>\n",
       "      <td>0</td>\n",
       "      <td>0</td>\n",
       "      <td>3</td>\n",
       "      <td>22</td>\n",
       "    </tr>\n",
       "  </tbody>\n",
       "</table>\n",
       "<p>2855204 rows × 12 columns</p>\n",
       "</div>"
      ],
      "text/plain": [
       "          PERIODO       FECHA     DESDE     HASTA    LINEA  \\\n",
       "2492243    201701  01/01/2017  08:00:00  08:15:00  LINEA_B   \n",
       "2492244    201701  01/01/2017  08:00:00  08:15:00  LINEA_B   \n",
       "2492245    201701  01/01/2017  08:00:00  08:15:00  LINEA_B   \n",
       "2492246    201701  01/01/2017  08:00:00  08:15:00  LINEA_B   \n",
       "2492247    201701  01/01/2017  08:15:00  08:30:00  LINEA_B   \n",
       "...           ...         ...       ...       ...      ...   \n",
       "11938454   201712  31/12/2017  22:00:00  22:15:00  LINEA_B   \n",
       "11938455   201712  31/12/2017  22:00:00  22:15:00  LINEA_B   \n",
       "11938456   201712  31/12/2017  22:00:00  22:15:00  LINEA_B   \n",
       "11938457   201712  31/12/2017  22:00:00  22:15:00  LINEA_B   \n",
       "11938458   201712  31/12/2017  22:00:00  22:15:00  LINEA_B   \n",
       "\n",
       "                              MOLINETE           ESTACION  PAX_PAGOS  \\\n",
       "2492243       LINEA_B_FLORIDA_O_TURN01            FLORIDA          4   \n",
       "2492244       LINEA_B_FLORIDA_O_TURN03            FLORIDA          3   \n",
       "2492245       LINEA_B_FLORIDA_O_TURN02            FLORIDA          1   \n",
       "2492246       LINEA_B_FLORIDA_O_TURN04            FLORIDA          1   \n",
       "2492247       LINEA_B_FLORIDA_O_TURN01            FLORIDA          2   \n",
       "...                                ...                ...        ...   \n",
       "11938454  LINEA_B_JMROSAS_OESTE_TURN02              ROSAS          1   \n",
       "11938455      LINEA_B_LACROZE_O_TURN02   FEDERICO LACROZE          1   \n",
       "11938456      LINEA_B_MALABIA_N_TURN02            MALABIA          1   \n",
       "11938457   LINEA_B_PELLEGRINI_E_TURN07  CARLOS PELLEGRINI          8   \n",
       "11938458      LINEA_B_URUGUAY_S_TURN02            URUGUAY          3   \n",
       "\n",
       "          PAX_PASES_PAGOS  PAX_FRANQ  TOTAL  ID  \n",
       "2492243                 0          0      4  20  \n",
       "2492244                 0          0      3  20  \n",
       "2492245                 0          0      1  20  \n",
       "2492246                 0          0      1  20  \n",
       "2492247                 0          0      2  20  \n",
       "...                   ...        ...    ...  ..  \n",
       "11938454                0          0      1  81  \n",
       "11938455                0          0      1  66  \n",
       "11938456                0          0      1  29  \n",
       "11938457                0          0      8  21  \n",
       "11938458                0          0      3  22  \n",
       "\n",
       "[2855204 rows x 12 columns]"
      ]
     },
     "execution_count": 13,
     "metadata": {},
     "output_type": "execute_result"
    }
   ],
   "source": [
    "# como inicialmente queremos trabajar con los datos de la Linea B, filtramos por el valor \"LINEA_B\" de la columna\n",
    "# \"LINEA\" nuestro dataframe original llamado molinetes.\n",
    "\n",
    "molinetes_b = molinetes.loc[molinetes['LINEA'] == 'LINEA_B']\n",
    "molinetes_b"
   ]
  },
  {
   "cell_type": "code",
   "execution_count": 14,
   "metadata": {
    "colab": {},
    "colab_type": "code",
    "id": "Vca7CJnuxyeD",
    "outputId": "fad04228-5de6-4f02-c3c8-0ca227b288e2"
   },
   "outputs": [
    {
     "data": {
      "text/plain": [
       "Int64Index([ 2492243,  2492244,  2492245,  2492246,  2492247,  2492248,\n",
       "             2492249,  2492250,  2492251,  2492252,\n",
       "            ...\n",
       "            11938436, 11938450, 11938451, 11938452, 11938453, 11938454,\n",
       "            11938455, 11938456, 11938457, 11938458],\n",
       "           dtype='int64', length=2855204)"
      ]
     },
     "execution_count": 14,
     "metadata": {},
     "output_type": "execute_result"
    }
   ],
   "source": [
    "molinetes_b.index"
   ]
  },
  {
   "cell_type": "code",
   "execution_count": 15,
   "metadata": {
    "colab": {},
    "colab_type": "code",
    "id": "WseCwfwWxyeH",
    "outputId": "7133064b-fb97-4615-b342-451edb93964b"
   },
   "outputs": [
    {
     "data": {
      "text/plain": [
       "(2855204, 12)"
      ]
     },
     "execution_count": 15,
     "metadata": {},
     "output_type": "execute_result"
    }
   ],
   "source": [
    "# observamos que la cantidad de renglones del nuevo dataframe es menor al del original, puesto que solo \n",
    "# estamos considerando a los molinetes de la linea B\n",
    "np.shape(molinetes_b)"
   ]
  },
  {
   "cell_type": "code",
   "execution_count": 16,
   "metadata": {
    "colab": {},
    "colab_type": "code",
    "id": "9fBOxEKsxyeN",
    "outputId": "edcb4b9d-8a7d-4977-c0fc-892967d2947d"
   },
   "outputs": [
    {
     "data": {
      "text/html": [
       "<div>\n",
       "<style scoped>\n",
       "    .dataframe tbody tr th:only-of-type {\n",
       "        vertical-align: middle;\n",
       "    }\n",
       "\n",
       "    .dataframe tbody tr th {\n",
       "        vertical-align: top;\n",
       "    }\n",
       "\n",
       "    .dataframe thead th {\n",
       "        text-align: right;\n",
       "    }\n",
       "</style>\n",
       "<table border=\"1\" class=\"dataframe\">\n",
       "  <thead>\n",
       "    <tr style=\"text-align: right;\">\n",
       "      <th></th>\n",
       "      <th>PERIODO</th>\n",
       "      <th>FECHA</th>\n",
       "      <th>DESDE</th>\n",
       "      <th>HASTA</th>\n",
       "      <th>LINEA</th>\n",
       "      <th>MOLINETE</th>\n",
       "      <th>ESTACION</th>\n",
       "      <th>PAX_PAGOS</th>\n",
       "      <th>PAX_PASES_PAGOS</th>\n",
       "      <th>PAX_FRANQ</th>\n",
       "      <th>TOTAL</th>\n",
       "      <th>ID</th>\n",
       "    </tr>\n",
       "  </thead>\n",
       "  <tbody>\n",
       "    <tr>\n",
       "      <th>2492243</th>\n",
       "      <td>201701</td>\n",
       "      <td>01/01/2017</td>\n",
       "      <td>08:00:00</td>\n",
       "      <td>08:15:00</td>\n",
       "      <td>LINEA_B</td>\n",
       "      <td>LINEA_B_FLORIDA_O_TURN01</td>\n",
       "      <td>FLORIDA</td>\n",
       "      <td>4</td>\n",
       "      <td>0</td>\n",
       "      <td>0</td>\n",
       "      <td>4</td>\n",
       "      <td>20</td>\n",
       "    </tr>\n",
       "    <tr>\n",
       "      <th>2492244</th>\n",
       "      <td>201701</td>\n",
       "      <td>01/01/2017</td>\n",
       "      <td>08:00:00</td>\n",
       "      <td>08:15:00</td>\n",
       "      <td>LINEA_B</td>\n",
       "      <td>LINEA_B_FLORIDA_O_TURN03</td>\n",
       "      <td>FLORIDA</td>\n",
       "      <td>3</td>\n",
       "      <td>0</td>\n",
       "      <td>0</td>\n",
       "      <td>3</td>\n",
       "      <td>20</td>\n",
       "    </tr>\n",
       "    <tr>\n",
       "      <th>2492245</th>\n",
       "      <td>201701</td>\n",
       "      <td>01/01/2017</td>\n",
       "      <td>08:00:00</td>\n",
       "      <td>08:15:00</td>\n",
       "      <td>LINEA_B</td>\n",
       "      <td>LINEA_B_FLORIDA_O_TURN02</td>\n",
       "      <td>FLORIDA</td>\n",
       "      <td>1</td>\n",
       "      <td>0</td>\n",
       "      <td>0</td>\n",
       "      <td>1</td>\n",
       "      <td>20</td>\n",
       "    </tr>\n",
       "    <tr>\n",
       "      <th>2492246</th>\n",
       "      <td>201701</td>\n",
       "      <td>01/01/2017</td>\n",
       "      <td>08:00:00</td>\n",
       "      <td>08:15:00</td>\n",
       "      <td>LINEA_B</td>\n",
       "      <td>LINEA_B_FLORIDA_O_TURN04</td>\n",
       "      <td>FLORIDA</td>\n",
       "      <td>1</td>\n",
       "      <td>0</td>\n",
       "      <td>0</td>\n",
       "      <td>1</td>\n",
       "      <td>20</td>\n",
       "    </tr>\n",
       "    <tr>\n",
       "      <th>2492247</th>\n",
       "      <td>201701</td>\n",
       "      <td>01/01/2017</td>\n",
       "      <td>08:15:00</td>\n",
       "      <td>08:30:00</td>\n",
       "      <td>LINEA_B</td>\n",
       "      <td>LINEA_B_FLORIDA_O_TURN01</td>\n",
       "      <td>FLORIDA</td>\n",
       "      <td>2</td>\n",
       "      <td>0</td>\n",
       "      <td>0</td>\n",
       "      <td>2</td>\n",
       "      <td>20</td>\n",
       "    </tr>\n",
       "  </tbody>\n",
       "</table>\n",
       "</div>"
      ],
      "text/plain": [
       "         PERIODO       FECHA     DESDE     HASTA    LINEA  \\\n",
       "2492243   201701  01/01/2017  08:00:00  08:15:00  LINEA_B   \n",
       "2492244   201701  01/01/2017  08:00:00  08:15:00  LINEA_B   \n",
       "2492245   201701  01/01/2017  08:00:00  08:15:00  LINEA_B   \n",
       "2492246   201701  01/01/2017  08:00:00  08:15:00  LINEA_B   \n",
       "2492247   201701  01/01/2017  08:15:00  08:30:00  LINEA_B   \n",
       "\n",
       "                         MOLINETE ESTACION  PAX_PAGOS  PAX_PASES_PAGOS  \\\n",
       "2492243  LINEA_B_FLORIDA_O_TURN01  FLORIDA          4                0   \n",
       "2492244  LINEA_B_FLORIDA_O_TURN03  FLORIDA          3                0   \n",
       "2492245  LINEA_B_FLORIDA_O_TURN02  FLORIDA          1                0   \n",
       "2492246  LINEA_B_FLORIDA_O_TURN04  FLORIDA          1                0   \n",
       "2492247  LINEA_B_FLORIDA_O_TURN01  FLORIDA          2                0   \n",
       "\n",
       "         PAX_FRANQ  TOTAL  ID  \n",
       "2492243          0      4  20  \n",
       "2492244          0      3  20  \n",
       "2492245          0      1  20  \n",
       "2492246          0      1  20  \n",
       "2492247          0      2  20  "
      ]
     },
     "execution_count": 16,
     "metadata": {},
     "output_type": "execute_result"
    }
   ],
   "source": [
    "# hacemos un head de solamente los primeros 3 renglones del nuevo dataframe \"molinetes_b\"\n",
    "molinetes_b.head(5)"
   ]
  },
  {
   "cell_type": "markdown",
   "metadata": {
    "colab_type": "text",
    "id": "YQ1e1SnYxyeU"
   },
   "source": [
    "### Filtrar un dataframe con \".iloc\"\n",
    "Podriamos filtrar nuestro dataframe de otra manera, por ejemplo indicando simultàneamente que renglones y columnas queremos preservar. Para ello en vez de utilizar .loc utilizaremos .iloc."
   ]
  },
  {
   "cell_type": "code",
   "execution_count": 17,
   "metadata": {
    "colab": {},
    "colab_type": "code",
    "id": "HqciE0IBxyeV",
    "outputId": "ae37b799-27f5-4a91-c1dc-ee08acdf9952"
   },
   "outputs": [
    {
     "data": {
      "text/html": [
       "<div>\n",
       "<style scoped>\n",
       "    .dataframe tbody tr th:only-of-type {\n",
       "        vertical-align: middle;\n",
       "    }\n",
       "\n",
       "    .dataframe tbody tr th {\n",
       "        vertical-align: top;\n",
       "    }\n",
       "\n",
       "    .dataframe thead th {\n",
       "        text-align: right;\n",
       "    }\n",
       "</style>\n",
       "<table border=\"1\" class=\"dataframe\">\n",
       "  <thead>\n",
       "    <tr style=\"text-align: right;\">\n",
       "      <th></th>\n",
       "      <th>PERIODO</th>\n",
       "      <th>FECHA</th>\n",
       "      <th>DESDE</th>\n",
       "      <th>HASTA</th>\n",
       "    </tr>\n",
       "  </thead>\n",
       "  <tbody>\n",
       "    <tr>\n",
       "      <th>2492243</th>\n",
       "      <td>201701</td>\n",
       "      <td>01/01/2017</td>\n",
       "      <td>08:00:00</td>\n",
       "      <td>08:15:00</td>\n",
       "    </tr>\n",
       "    <tr>\n",
       "      <th>2492244</th>\n",
       "      <td>201701</td>\n",
       "      <td>01/01/2017</td>\n",
       "      <td>08:00:00</td>\n",
       "      <td>08:15:00</td>\n",
       "    </tr>\n",
       "    <tr>\n",
       "      <th>2492245</th>\n",
       "      <td>201701</td>\n",
       "      <td>01/01/2017</td>\n",
       "      <td>08:00:00</td>\n",
       "      <td>08:15:00</td>\n",
       "    </tr>\n",
       "    <tr>\n",
       "      <th>2492246</th>\n",
       "      <td>201701</td>\n",
       "      <td>01/01/2017</td>\n",
       "      <td>08:00:00</td>\n",
       "      <td>08:15:00</td>\n",
       "    </tr>\n",
       "    <tr>\n",
       "      <th>2492247</th>\n",
       "      <td>201701</td>\n",
       "      <td>01/01/2017</td>\n",
       "      <td>08:15:00</td>\n",
       "      <td>08:30:00</td>\n",
       "    </tr>\n",
       "    <tr>\n",
       "      <th>2492248</th>\n",
       "      <td>201701</td>\n",
       "      <td>01/01/2017</td>\n",
       "      <td>08:30:00</td>\n",
       "      <td>08:45:00</td>\n",
       "    </tr>\n",
       "    <tr>\n",
       "      <th>2492249</th>\n",
       "      <td>201701</td>\n",
       "      <td>01/01/2017</td>\n",
       "      <td>08:30:00</td>\n",
       "      <td>08:45:00</td>\n",
       "    </tr>\n",
       "    <tr>\n",
       "      <th>2492250</th>\n",
       "      <td>201701</td>\n",
       "      <td>01/01/2017</td>\n",
       "      <td>08:45:00</td>\n",
       "      <td>09:00:00</td>\n",
       "    </tr>\n",
       "    <tr>\n",
       "      <th>2492251</th>\n",
       "      <td>201701</td>\n",
       "      <td>01/01/2017</td>\n",
       "      <td>09:00:00</td>\n",
       "      <td>09:15:00</td>\n",
       "    </tr>\n",
       "    <tr>\n",
       "      <th>2492252</th>\n",
       "      <td>201701</td>\n",
       "      <td>01/01/2017</td>\n",
       "      <td>09:00:00</td>\n",
       "      <td>09:15:00</td>\n",
       "    </tr>\n",
       "  </tbody>\n",
       "</table>\n",
       "</div>"
      ],
      "text/plain": [
       "         PERIODO       FECHA     DESDE     HASTA\n",
       "2492243   201701  01/01/2017  08:00:00  08:15:00\n",
       "2492244   201701  01/01/2017  08:00:00  08:15:00\n",
       "2492245   201701  01/01/2017  08:00:00  08:15:00\n",
       "2492246   201701  01/01/2017  08:00:00  08:15:00\n",
       "2492247   201701  01/01/2017  08:15:00  08:30:00\n",
       "2492248   201701  01/01/2017  08:30:00  08:45:00\n",
       "2492249   201701  01/01/2017  08:30:00  08:45:00\n",
       "2492250   201701  01/01/2017  08:45:00  09:00:00\n",
       "2492251   201701  01/01/2017  09:00:00  09:15:00\n",
       "2492252   201701  01/01/2017  09:00:00  09:15:00"
      ]
     },
     "execution_count": 17,
     "metadata": {},
     "output_type": "execute_result"
    }
   ],
   "source": [
    "# por ejemplo con .iloc seleccionamos los primeros 10 renglones y 3 columnas del nuevo dataframe \"molinetes_b\"\n",
    "molinetes_b.iloc[0:10,0:4] "
   ]
  },
  {
   "cell_type": "markdown",
   "metadata": {
    "colab_type": "text",
    "id": "rpcc_iSHxyeb"
   },
   "source": [
    "#### **Consejo:** \n",
    "Para saber todos los atajos y trucos en Pandas te recomendamos que tengas a mano la \"Pandas Cheat Sheet\" donde encontrarás muchos consejos y sugerencias para agilizar tu trabajo. https://pandas.pydata.org/Pandas_Cheat_Sheet.pdf"
   ]
  },
  {
   "cell_type": "markdown",
   "metadata": {
    "colab_type": "text",
    "id": "0gnmcac2xyed"
   },
   "source": [
    "# Primeras visualizaciones: Countplot"
   ]
  },
  {
   "cell_type": "markdown",
   "metadata": {
    "colab_type": "text",
    "id": "X56IGCJ1xyef"
   },
   "source": [
    "Visualización Countplot de Seaborn para las distintas lineas de subte sobre el dataframe \"molinetes\"."
   ]
  },
  {
   "cell_type": "code",
   "execution_count": 18,
   "metadata": {
    "colab": {},
    "colab_type": "code",
    "id": "9OiBNaBYxyeg",
    "outputId": "16dbbe47-fa5b-4d9d-a40a-3150376e4771"
   },
   "outputs": [
    {
     "data": {
      "image/png": "[encoded data removed]",
      "text/plain": [
       "<Figure size 720x432 with 1 Axes>"
      ]
     },
     "metadata": {
      "needs_background": "light"
     },
     "output_type": "display_data"
    }
   ],
   "source": [
    "# con el comando \"countplot\" de Seaborn (importado como sns) generamos un gráfico de barras por la columna \"LINEA\"\n",
    "sns.set_context(\"talk\")\n",
    "plt.figure(figsize=(10,6))\n",
    "sns.countplot(x=\"LINEA\", data=molinetes)\n",
    "plt.title(\"Cantidad de viajes por linea durante 2018\")\n",
    "plt.show()"
   ]
  },
  {
   "cell_type": "markdown",
   "metadata": {
    "colab_type": "text",
    "id": "Udle3dOJxyem"
   },
   "source": [
    "Visualización de Countplot de Seaborn para las distintas estaciones de la linea B."
   ]
  },
  {
   "cell_type": "code",
   "execution_count": 19,
   "metadata": {
    "colab": {},
    "colab_type": "code",
    "id": "6xpLCrVJxyeo",
    "outputId": "91d1f1e4-c023-4bc7-e3f2-c97b258c5672"
   },
   "outputs": [
    {
     "data": {
      "image/png": "[encoded data removed]",
      "text/plain": [
       "<Figure size 720x432 with 1 Axes>"
      ]
     },
     "metadata": {
      "needs_background": "light"
     },
     "output_type": "display_data"
    }
   ],
   "source": [
    "# luego generamos un countplot de seaborn por la columna estación, esta vez utilizando el nuevo dataframe filtrado\n",
    "# molinetes_b, que solo contiene los datos de la linea B.\n",
    "plt.figure(figsize=(10,6))\n",
    "ax = sns.countplot(x=\"ESTACION\", data=molinetes_b)\n",
    "ax.set_xticklabels(ax.get_xticklabels(), rotation=40, ha=\"right\")\n",
    "plt.title(\"Cantidad de viajes molinete por estacion linea B\")\n",
    "plt.show()"
   ]
  },
  {
   "cell_type": "markdown",
   "metadata": {
    "colab_type": "text",
    "id": "w9oNQuJKxyes"
   },
   "source": [
    "si quisieramos imprimir en pantalla los valores unicos de la columna \"ESTACION\" podemos usar el comando \"np.unique\" de numpy"
   ]
  },
  {
   "cell_type": "code",
   "execution_count": 20,
   "metadata": {
    "colab": {},
    "colab_type": "code",
    "id": "drDO_834xyes",
    "outputId": "8599db2a-e8d3-4f6e-cef5-70b8b7416832"
   },
   "outputs": [
    {
     "data": {
      "text/plain": [
       "array(['ANGEL GALLARDO', 'CALLAO.B', 'CARLOS GARDEL', 'CARLOS PELLEGRINI',\n",
       "       'DORREGO', 'ECHEVERRIA', 'FEDERICO LACROZE', 'FLORIDA',\n",
       "       'LEANDRO N. ALEM', 'LOS INCAS', 'MALABIA', 'MEDRANO', 'PASTEUR',\n",
       "       'PUEYRREDON', 'ROSAS', 'TRONADOR', 'URUGUAY'], dtype=object)"
      ]
     },
     "execution_count": 20,
     "metadata": {},
     "output_type": "execute_result"
    }
   ],
   "source": [
    "# imprimimos todos los valores unicos dentro de la columna \"ESTACION\" para el dataframe \"molinetes_b\"\n",
    "np.unique(molinetes_b.ESTACION)"
   ]
  },
  {
   "cell_type": "markdown",
   "metadata": {
    "colab_type": "text",
    "id": "xmT5e_PKxyew"
   },
   "source": [
    "# Estadisticas Descriptivas"
   ]
  },
  {
   "cell_type": "markdown",
   "metadata": {
    "colab_type": "text",
    "id": "iDPbK2Woxyew"
   },
   "source": [
    "Con el comando de numpy .mean() puedo obtener la media del elemento seleccionado, en este caso la columna \"TOTAL\" del dataframe \"molinetes_b\"."
   ]
  },
  {
   "cell_type": "code",
   "execution_count": 21,
   "metadata": {
    "colab": {},
    "colab_type": "code",
    "id": "36uxslQcxyex",
    "outputId": "7b81ee09-1a51-4c00-dc0a-07d37f03d2da"
   },
   "outputs": [
    {
     "data": {
      "text/plain": [
       "31.07430502338887"
      ]
     },
     "execution_count": 21,
     "metadata": {},
     "output_type": "execute_result"
    }
   ],
   "source": [
    "media_tot_b = np.mean(molinetes_b['TOTAL'])\n",
    "media_tot_b"
   ]
  },
  {
   "cell_type": "code",
   "execution_count": 22,
   "metadata": {
    "colab": {},
    "colab_type": "code",
    "id": "CpfmssQIxye2",
    "outputId": "efa73a90-8086-47f5-d41a-b30ee4d2a73d"
   },
   "outputs": [
    {
     "name": "stdout",
     "output_type": "stream",
     "text": [
      "La media total de todo el año 2017 para la linea B es 31.07430502338887\n"
     ]
    }
   ],
   "source": [
    "# Luego procedemos a imprimir por pantalla la media calculada mas un texto \n",
    "print(\"La media total de todo el año 2017 para la linea B es \" + str(media_tot_b))"
   ]
  },
  {
   "cell_type": "markdown",
   "metadata": {
    "colab_type": "text",
    "id": "gySPBDq5xye5"
   },
   "source": [
    "por medio del comando .std() de numpy podemos calcular el desvío estandard de la variable en cuestion, en este caso la columna \"TOTAL\" del dataframe molinetes_b"
   ]
  },
  {
   "cell_type": "code",
   "execution_count": 23,
   "metadata": {
    "colab": {},
    "colab_type": "code",
    "id": "fb5PAvNDxye5",
    "outputId": "91298856-cd7b-4ef6-b28c-a377afc58bee"
   },
   "outputs": [
    {
     "name": "stdout",
     "output_type": "stream",
     "text": [
      "El desvio estándard de la variable total para todo el año 2017 es 33.073673874646964\n"
     ]
    }
   ],
   "source": [
    "desvio_std_tot_b = np.std(molinetes_b['TOTAL'])\n",
    "print(\"El desvio estándard de la variable total para todo el año 2017 es \" + str(desvio_std_tot_b))"
   ]
  },
  {
   "cell_type": "markdown",
   "metadata": {
    "colab_type": "text",
    "id": "RSiR-KUYxye_"
   },
   "source": [
    "por medio del comando .describe() de pandas podemos obtener estadísticas descriptivas del elemento en cuestion, La cantidad de instancias, la media, el desvio estandard, el valor minimo, el 1er cuartil, el 2do cuartil, el 3er cuartil y el valor máximo."
   ]
  },
  {
   "cell_type": "code",
   "execution_count": 24,
   "metadata": {
    "colab": {},
    "colab_type": "code",
    "id": "U1_yhM0fxyfA",
    "outputId": "df8dbd6c-3b77-46cf-f389-50f018537368"
   },
   "outputs": [
    {
     "data": {
      "text/plain": [
       "count    2.855204e+06\n",
       "mean     3.107431e+01\n",
       "std      3.307368e+01\n",
       "min      0.000000e+00\n",
       "25%      6.000000e+00\n",
       "50%      2.000000e+01\n",
       "75%      4.400000e+01\n",
       "max      3.690000e+02\n",
       "Name: TOTAL, dtype: float64"
      ]
     },
     "execution_count": 24,
     "metadata": {},
     "output_type": "execute_result"
    }
   ],
   "source": [
    "molinetes_b['TOTAL'].describe()"
   ]
  },
  {
   "cell_type": "markdown",
   "metadata": {
    "colab_type": "text",
    "id": "ekYE9FZpxyfD"
   },
   "source": [
    "# Análisis del mes de Abril para la linea B"
   ]
  },
  {
   "cell_type": "markdown",
   "metadata": {
    "colab_type": "text",
    "id": "nVEx0Gb7xyfE"
   },
   "source": [
    "Primero filtramos utilizando .loc el dataframe \"molinetes_b\" por los renglones que en la columna \"PERIODO\" sean iguales a \"201704\". Generamos un nuevo dataframe filtrando y reteniendo las instancias/renglones con indice referido al mes de Abril"
   ]
  },
  {
   "cell_type": "code",
   "execution_count": 25,
   "metadata": {
    "colab": {},
    "colab_type": "code",
    "id": "QZckHKNFxyfF"
   },
   "outputs": [],
   "source": [
    "# el filtrado se realiza mediante la accion de pandas \".loc\".\n",
    "molinetes_b_abril = molinetes_b.loc[molinetes_b['PERIODO'] == 201704]"
   ]
  },
  {
   "cell_type": "code",
   "execution_count": 26,
   "metadata": {
    "colab": {},
    "colab_type": "code",
    "id": "L6fcTRSQxyfI",
    "outputId": "4bcc1efd-f203-4cca-b325-37a9f701c862"
   },
   "outputs": [
    {
     "data": {
      "text/html": [
       "<div>\n",
       "<style scoped>\n",
       "    .dataframe tbody tr th:only-of-type {\n",
       "        vertical-align: middle;\n",
       "    }\n",
       "\n",
       "    .dataframe tbody tr th {\n",
       "        vertical-align: top;\n",
       "    }\n",
       "\n",
       "    .dataframe thead th {\n",
       "        text-align: right;\n",
       "    }\n",
       "</style>\n",
       "<table border=\"1\" class=\"dataframe\">\n",
       "  <thead>\n",
       "    <tr style=\"text-align: right;\">\n",
       "      <th></th>\n",
       "      <th>PERIODO</th>\n",
       "      <th>FECHA</th>\n",
       "      <th>DESDE</th>\n",
       "      <th>HASTA</th>\n",
       "      <th>LINEA</th>\n",
       "      <th>MOLINETE</th>\n",
       "      <th>ESTACION</th>\n",
       "      <th>PAX_PAGOS</th>\n",
       "      <th>PAX_PASES_PAGOS</th>\n",
       "      <th>PAX_FRANQ</th>\n",
       "      <th>TOTAL</th>\n",
       "      <th>ID</th>\n",
       "    </tr>\n",
       "  </thead>\n",
       "  <tbody>\n",
       "    <tr>\n",
       "      <th>2527911</th>\n",
       "      <td>201704</td>\n",
       "      <td>01/04/2017</td>\n",
       "      <td>05:00:00</td>\n",
       "      <td>05:15:00</td>\n",
       "      <td>LINEA_B</td>\n",
       "      <td>LINEA_B_FLORIDA_E_TURN02</td>\n",
       "      <td>FLORIDA</td>\n",
       "      <td>0</td>\n",
       "      <td>0</td>\n",
       "      <td>0</td>\n",
       "      <td>0</td>\n",
       "      <td>20</td>\n",
       "    </tr>\n",
       "    <tr>\n",
       "      <th>2527912</th>\n",
       "      <td>201704</td>\n",
       "      <td>01/04/2017</td>\n",
       "      <td>05:00:00</td>\n",
       "      <td>05:15:00</td>\n",
       "      <td>LINEA_B</td>\n",
       "      <td>LINEA_B_FLORIDA_O_TURN04</td>\n",
       "      <td>FLORIDA</td>\n",
       "      <td>1</td>\n",
       "      <td>0</td>\n",
       "      <td>0</td>\n",
       "      <td>1</td>\n",
       "      <td>20</td>\n",
       "    </tr>\n",
       "    <tr>\n",
       "      <th>2527913</th>\n",
       "      <td>201704</td>\n",
       "      <td>01/04/2017</td>\n",
       "      <td>05:15:00</td>\n",
       "      <td>05:30:00</td>\n",
       "      <td>LINEA_B</td>\n",
       "      <td>LINEA_B_FLORIDA_O_TURN04</td>\n",
       "      <td>FLORIDA</td>\n",
       "      <td>1</td>\n",
       "      <td>0</td>\n",
       "      <td>0</td>\n",
       "      <td>1</td>\n",
       "      <td>20</td>\n",
       "    </tr>\n",
       "  </tbody>\n",
       "</table>\n",
       "</div>"
      ],
      "text/plain": [
       "         PERIODO       FECHA     DESDE     HASTA    LINEA  \\\n",
       "2527911   201704  01/04/2017  05:00:00  05:15:00  LINEA_B   \n",
       "2527912   201704  01/04/2017  05:00:00  05:15:00  LINEA_B   \n",
       "2527913   201704  01/04/2017  05:15:00  05:30:00  LINEA_B   \n",
       "\n",
       "                         MOLINETE ESTACION  PAX_PAGOS  PAX_PASES_PAGOS  \\\n",
       "2527911  LINEA_B_FLORIDA_E_TURN02  FLORIDA          0                0   \n",
       "2527912  LINEA_B_FLORIDA_O_TURN04  FLORIDA          1                0   \n",
       "2527913  LINEA_B_FLORIDA_O_TURN04  FLORIDA          1                0   \n",
       "\n",
       "         PAX_FRANQ  TOTAL  ID  \n",
       "2527911          0      0  20  \n",
       "2527912          0      1  20  \n",
       "2527913          0      1  20  "
      ]
     },
     "execution_count": 26,
     "metadata": {},
     "output_type": "execute_result"
    }
   ],
   "source": [
    "# imprimimos por pantalla los primeros 3 renglones del mes de abril\n",
    "molinetes_b_abril.head(3)"
   ]
  },
  {
   "cell_type": "code",
   "execution_count": 27,
   "metadata": {
    "colab": {},
    "colab_type": "code",
    "id": "O_XjPMIoxyfN",
    "outputId": "ad9ee679-244e-4bb8-eedd-64cae852bc78"
   },
   "outputs": [
    {
     "data": {
      "text/plain": [
       "count    225725.000000\n",
       "mean         30.301743\n",
       "std          33.434120\n",
       "min           0.000000\n",
       "25%           6.000000\n",
       "50%          19.000000\n",
       "75%          43.000000\n",
       "max         266.000000\n",
       "Name: TOTAL, dtype: float64"
      ]
     },
     "execution_count": 27,
     "metadata": {},
     "output_type": "execute_result"
    }
   ],
   "source": [
    "# Obtenemos estadísticas descriptivas de la columna \"TOTAL\" del mes de abril.\n",
    "molinetes_b_abril['TOTAL'].describe()"
   ]
  },
  {
   "cell_type": "markdown",
   "metadata": {
    "colab_type": "text",
    "id": "VE8OJ8gdxyfS"
   },
   "source": [
    "# Visualización Distplot\n",
    "Utilizaremos esta visualización para generar un histograma + una curva de distribución de los datos a partir de sus frecuencias poblacionales"
   ]
  },
  {
   "cell_type": "code",
   "execution_count": 28,
   "metadata": {
    "colab": {},
    "colab_type": "code",
    "id": "NbpDu0d-xyfT",
    "outputId": "4e250e1f-34cb-4bc7-a500-536a9f03a96a"
   },
   "outputs": [
    {
     "data": {
      "image/png": "[encoded data removed]",
      "text/plain": [
       "<Figure size 720x432 with 1 Axes>"
      ]
     },
     "metadata": {
      "needs_background": "light"
     },
     "output_type": "display_data"
    }
   ],
   "source": [
    "# displot para la columna \"TOTAL\" nos generará un histograma + la distribución generada de los datos a partir de \n",
    "# sus frecuencias poblacionales.\n",
    "plt.figure(figsize=(10,6))\n",
    "sns.distplot(molinetes_b_abril['TOTAL'])\n",
    "plt.title('Distribución de cantidad de viajes totales de molinetes. Linea B. Mes Abril.')\n",
    "plt.xlabel('Cantidad de Viajes en molinete por cada 15 mins')\n",
    "plt.show()"
   ]
  },
  {
   "cell_type": "code",
   "execution_count": 29,
   "metadata": {
    "colab": {},
    "colab_type": "code",
    "id": "BAXCGCNuxyfX",
    "outputId": "3cba81cb-3329-408f-d532-e0262f866efa"
   },
   "outputs": [
    {
     "data": {
      "image/png": "[encoded data removed]",
      "text/plain": [
       "<Figure size 720x432 with 1 Axes>"
      ]
     },
     "metadata": {
      "needs_background": "light"
     },
     "output_type": "display_data"
    }
   ],
   "source": [
    "# displot para la columna \"TOTAL\" nos generará un histograma + la distribución generada de los datos a partir de \n",
    "# sus frecuencias poblacionales.\n",
    "plt.figure(figsize=(10,6))\n",
    "sns.distplot(molinetes_b_abril.loc[molinetes_b_abril.ESTACION == 'LEANDRO N. ALEM']['TOTAL'], label = 'Alem')\n",
    "sns.distplot(molinetes_b_abril.loc[molinetes_b_abril.ESTACION == 'FEDERICO LACROZE']['TOTAL'], label = 'Lacroze')\n",
    "plt.title('Distribución de cantidad de viajes de molinetes. ALEM vs LACROZE.')\n",
    "plt.xlabel('Cantidad de Viajes en molinete por cada 15 mins')\n",
    "plt.legend(loc='upper right')\n",
    "plt.show()"
   ]
  },
  {
   "cell_type": "code",
   "execution_count": 30,
   "metadata": {
    "colab": {},
    "colab_type": "code",
    "id": "W6FOAcc6xyfa",
    "outputId": "25068e69-8e5c-49d3-87a2-ba4f41b2dd4a"
   },
   "outputs": [
    {
     "data": {
      "image/png": "[encoded data removed]",
      "text/plain": [
       "<Figure size 720x432 with 1 Axes>"
      ]
     },
     "metadata": {
      "needs_background": "light"
     },
     "output_type": "display_data"
    }
   ],
   "source": [
    "# displot para la columna \"TOTAL\" nos generará un histograma + la distribución generada de los datos a partir de \n",
    "# sus frecuencias poblacionales.\n",
    "plt.figure(figsize=(10,6))\n",
    "sns.distplot(molinetes_b_abril.loc[molinetes_b_abril.ESTACION == 'LEANDRO N. ALEM']['TOTAL'], label = 'Alem')\n",
    "#sns.distplot(molinetes_b_abril.loc[molinetes_b_abril.ESTACION == 'FEDERICO LACROZE']['TOTAL'], label = 'Lacroze')\n",
    "sns.distplot(molinetes_b_abril.loc[molinetes_b_abril.ESTACION == 'MEDRANO']['TOTAL'], label = 'Medrano')\n",
    "plt.title('Distribución de cantidad de viajes molinetes. ALEM vs LACROZE.')\n",
    "plt.xlabel('Cantidad de Viajes en molinete por cada 15 mins')\n",
    "plt.legend(loc='upper right')\n",
    "plt.show()"
   ]
  },
  {
   "cell_type": "code",
   "execution_count": 31,
   "metadata": {
    "colab": {},
    "colab_type": "code",
    "id": "buzupma9xyfe",
    "outputId": "1e215029-aae8-4233-89b9-135865ba8403"
   },
   "outputs": [
    {
     "data": {
      "text/plain": [
       "Index(['PERIODO', 'FECHA', 'DESDE', 'HASTA', 'LINEA', 'MOLINETE', 'ESTACION',\n",
       "       'PAX_PAGOS', 'PAX_PASES_PAGOS', 'PAX_FRANQ', 'TOTAL', 'ID'],\n",
       "      dtype='object')"
      ]
     },
     "execution_count": 31,
     "metadata": {},
     "output_type": "execute_result"
    }
   ],
   "source": [
    "# visualizamos en pantalla las columnas del dataframe de la linea B\n",
    "molinetes_b_abril.columns"
   ]
  },
  {
   "cell_type": "markdown",
   "metadata": {
    "colab_type": "text",
    "id": "NU6Jn1D_xyfh"
   },
   "source": [
    "# Tabla Pivote para Linea B, con Estaciones y Periodos\n",
    "Las tablas pivote son elementos poderosos para resumir la información de nuestro dataframe, seleccionando que datos queremos que marquen nuestros renglones, otros para las columnas y otros para los valores. En otras palabras, podemos obtener un nuevo dataframe cuyas columnas y filas las podemos definir nosotros en funcion de los valores originales."
   ]
  },
  {
   "cell_type": "markdown",
   "metadata": {
    "colab_type": "text",
    "id": "tNHBO451xyfi"
   },
   "source": [
    "En este caso decidimos realizar una tabla pivote donde las columnas son los valores de la columna \"ESTACIONES\", el indice equivale a los valores de la columna \"PERIODO\" y los valores equivalen a la columna \"TOTAL\". Finalmente, con el comando \"aggfunc\" indicamos que el valor de cada celda sea la suma correspondiente de TOTAL para cada columna y renglon."
   ]
  },
  {
   "cell_type": "code",
   "execution_count": 32,
   "metadata": {
    "colab": {},
    "colab_type": "code",
    "id": "02ywc9yXxyfj"
   },
   "outputs": [],
   "source": [
    "linea_b_2017 = pd.pivot_table(molinetes_b,values = 'TOTAL',columns = 'ESTACION', index = molinetes_b.PERIODO.values, aggfunc = np.sum)"
   ]
  },
  {
   "cell_type": "code",
   "execution_count": 33,
   "metadata": {
    "colab": {},
    "colab_type": "code",
    "id": "fiW8CUvLxyfq",
    "outputId": "6cc8d6c1-77cb-45aa-dd21-d9af2836fb26",
    "scrolled": true
   },
   "outputs": [
    {
     "data": {
      "text/html": [
       "<div>\n",
       "<style scoped>\n",
       "    .dataframe tbody tr th:only-of-type {\n",
       "        vertical-align: middle;\n",
       "    }\n",
       "\n",
       "    .dataframe tbody tr th {\n",
       "        vertical-align: top;\n",
       "    }\n",
       "\n",
       "    .dataframe thead th {\n",
       "        text-align: right;\n",
       "    }\n",
       "</style>\n",
       "<table border=\"1\" class=\"dataframe\">\n",
       "  <thead>\n",
       "    <tr style=\"text-align: right;\">\n",
       "      <th>ESTACION</th>\n",
       "      <th>ANGEL GALLARDO</th>\n",
       "      <th>CALLAO.B</th>\n",
       "      <th>CARLOS GARDEL</th>\n",
       "      <th>CARLOS PELLEGRINI</th>\n",
       "      <th>DORREGO</th>\n",
       "      <th>ECHEVERRIA</th>\n",
       "      <th>FEDERICO LACROZE</th>\n",
       "      <th>FLORIDA</th>\n",
       "      <th>LEANDRO N. ALEM</th>\n",
       "      <th>LOS INCAS</th>\n",
       "      <th>MALABIA</th>\n",
       "      <th>MEDRANO</th>\n",
       "      <th>PASTEUR</th>\n",
       "      <th>PUEYRREDON</th>\n",
       "      <th>ROSAS</th>\n",
       "      <th>TRONADOR</th>\n",
       "      <th>URUGUAY</th>\n",
       "    </tr>\n",
       "  </thead>\n",
       "  <tbody>\n",
       "    <tr>\n",
       "      <th>201701</th>\n",
       "      <td>302879</td>\n",
       "      <td>338280</td>\n",
       "      <td>353255</td>\n",
       "      <td>502598</td>\n",
       "      <td>292664</td>\n",
       "      <td>141750</td>\n",
       "      <td>511695</td>\n",
       "      <td>441188</td>\n",
       "      <td>553090</td>\n",
       "      <td>195713</td>\n",
       "      <td>377889</td>\n",
       "      <td>341292</td>\n",
       "      <td>248076</td>\n",
       "      <td>268862</td>\n",
       "      <td>541408</td>\n",
       "      <td>106590</td>\n",
       "      <td>309308</td>\n",
       "    </tr>\n",
       "    <tr>\n",
       "      <th>201702</th>\n",
       "      <td>284650</td>\n",
       "      <td>346552</td>\n",
       "      <td>325949</td>\n",
       "      <td>470302</td>\n",
       "      <td>271066</td>\n",
       "      <td>132879</td>\n",
       "      <td>474681</td>\n",
       "      <td>366084</td>\n",
       "      <td>495892</td>\n",
       "      <td>180915</td>\n",
       "      <td>349323</td>\n",
       "      <td>321815</td>\n",
       "      <td>238332</td>\n",
       "      <td>236438</td>\n",
       "      <td>508530</td>\n",
       "      <td>107466</td>\n",
       "      <td>342773</td>\n",
       "    </tr>\n",
       "    <tr>\n",
       "      <th>201703</th>\n",
       "      <td>406406</td>\n",
       "      <td>511642</td>\n",
       "      <td>415533</td>\n",
       "      <td>609721</td>\n",
       "      <td>377516</td>\n",
       "      <td>185013</td>\n",
       "      <td>686928</td>\n",
       "      <td>520120</td>\n",
       "      <td>712461</td>\n",
       "      <td>256731</td>\n",
       "      <td>503086</td>\n",
       "      <td>471902</td>\n",
       "      <td>362952</td>\n",
       "      <td>329502</td>\n",
       "      <td>708116</td>\n",
       "      <td>156945</td>\n",
       "      <td>486818</td>\n",
       "    </tr>\n",
       "    <tr>\n",
       "      <th>201704</th>\n",
       "      <td>370819</td>\n",
       "      <td>450017</td>\n",
       "      <td>393965</td>\n",
       "      <td>536940</td>\n",
       "      <td>337850</td>\n",
       "      <td>164278</td>\n",
       "      <td>619636</td>\n",
       "      <td>461547</td>\n",
       "      <td>621655</td>\n",
       "      <td>229347</td>\n",
       "      <td>449623</td>\n",
       "      <td>427819</td>\n",
       "      <td>315425</td>\n",
       "      <td>291638</td>\n",
       "      <td>625971</td>\n",
       "      <td>137022</td>\n",
       "      <td>406309</td>\n",
       "    </tr>\n",
       "    <tr>\n",
       "      <th>201705</th>\n",
       "      <td>413918</td>\n",
       "      <td>508358</td>\n",
       "      <td>421990</td>\n",
       "      <td>599664</td>\n",
       "      <td>387773</td>\n",
       "      <td>189237</td>\n",
       "      <td>706959</td>\n",
       "      <td>540982</td>\n",
       "      <td>711248</td>\n",
       "      <td>263497</td>\n",
       "      <td>516187</td>\n",
       "      <td>480948</td>\n",
       "      <td>351821</td>\n",
       "      <td>334416</td>\n",
       "      <td>729766</td>\n",
       "      <td>151766</td>\n",
       "      <td>473547</td>\n",
       "    </tr>\n",
       "    <tr>\n",
       "      <th>201706</th>\n",
       "      <td>419833</td>\n",
       "      <td>501238</td>\n",
       "      <td>436199</td>\n",
       "      <td>606456</td>\n",
       "      <td>393405</td>\n",
       "      <td>191515</td>\n",
       "      <td>716476</td>\n",
       "      <td>528098</td>\n",
       "      <td>655065</td>\n",
       "      <td>265865</td>\n",
       "      <td>528017</td>\n",
       "      <td>479090</td>\n",
       "      <td>350354</td>\n",
       "      <td>337907</td>\n",
       "      <td>716083</td>\n",
       "      <td>151239</td>\n",
       "      <td>474200</td>\n",
       "    </tr>\n",
       "    <tr>\n",
       "      <th>201707</th>\n",
       "      <td>415642</td>\n",
       "      <td>478820</td>\n",
       "      <td>529589</td>\n",
       "      <td>636781</td>\n",
       "      <td>395550</td>\n",
       "      <td>185792</td>\n",
       "      <td>709808</td>\n",
       "      <td>561457</td>\n",
       "      <td>683525</td>\n",
       "      <td>257155</td>\n",
       "      <td>520385</td>\n",
       "      <td>477493</td>\n",
       "      <td>348870</td>\n",
       "      <td>351933</td>\n",
       "      <td>697111</td>\n",
       "      <td>152511</td>\n",
       "      <td>462498</td>\n",
       "    </tr>\n",
       "    <tr>\n",
       "      <th>201708</th>\n",
       "      <td>447024</td>\n",
       "      <td>526154</td>\n",
       "      <td>462377</td>\n",
       "      <td>647641</td>\n",
       "      <td>412804</td>\n",
       "      <td>200447</td>\n",
       "      <td>757858</td>\n",
       "      <td>574394</td>\n",
       "      <td>687968</td>\n",
       "      <td>296256</td>\n",
       "      <td>543668</td>\n",
       "      <td>527635</td>\n",
       "      <td>376613</td>\n",
       "      <td>340882</td>\n",
       "      <td>763960</td>\n",
       "      <td>157194</td>\n",
       "      <td>490577</td>\n",
       "    </tr>\n",
       "    <tr>\n",
       "      <th>201709</th>\n",
       "      <td>444356</td>\n",
       "      <td>521767</td>\n",
       "      <td>453360</td>\n",
       "      <td>603784</td>\n",
       "      <td>388220</td>\n",
       "      <td>195315</td>\n",
       "      <td>754344</td>\n",
       "      <td>558004</td>\n",
       "      <td>704794</td>\n",
       "      <td>291394</td>\n",
       "      <td>535788</td>\n",
       "      <td>505395</td>\n",
       "      <td>373030</td>\n",
       "      <td>351097</td>\n",
       "      <td>757761</td>\n",
       "      <td>157413</td>\n",
       "      <td>473385</td>\n",
       "    </tr>\n",
       "    <tr>\n",
       "      <th>201710</th>\n",
       "      <td>452784</td>\n",
       "      <td>542104</td>\n",
       "      <td>478520</td>\n",
       "      <td>611260</td>\n",
       "      <td>413795</td>\n",
       "      <td>201619</td>\n",
       "      <td>775887</td>\n",
       "      <td>570306</td>\n",
       "      <td>726076</td>\n",
       "      <td>297495</td>\n",
       "      <td>557571</td>\n",
       "      <td>519606</td>\n",
       "      <td>392034</td>\n",
       "      <td>364650</td>\n",
       "      <td>781118</td>\n",
       "      <td>162695</td>\n",
       "      <td>477481</td>\n",
       "    </tr>\n",
       "    <tr>\n",
       "      <th>201711</th>\n",
       "      <td>451355</td>\n",
       "      <td>533837</td>\n",
       "      <td>450794</td>\n",
       "      <td>602445</td>\n",
       "      <td>409955</td>\n",
       "      <td>195447</td>\n",
       "      <td>775499</td>\n",
       "      <td>568066</td>\n",
       "      <td>700946</td>\n",
       "      <td>293508</td>\n",
       "      <td>558753</td>\n",
       "      <td>515424</td>\n",
       "      <td>382185</td>\n",
       "      <td>374949</td>\n",
       "      <td>747637</td>\n",
       "      <td>155654</td>\n",
       "      <td>462844</td>\n",
       "    </tr>\n",
       "    <tr>\n",
       "      <th>201712</th>\n",
       "      <td>352171</td>\n",
       "      <td>414308</td>\n",
       "      <td>451059</td>\n",
       "      <td>509371</td>\n",
       "      <td>331590</td>\n",
       "      <td>156611</td>\n",
       "      <td>636921</td>\n",
       "      <td>543760</td>\n",
       "      <td>441757</td>\n",
       "      <td>235686</td>\n",
       "      <td>467709</td>\n",
       "      <td>419816</td>\n",
       "      <td>318799</td>\n",
       "      <td>336318</td>\n",
       "      <td>585789</td>\n",
       "      <td>134491</td>\n",
       "      <td>380892</td>\n",
       "    </tr>\n",
       "  </tbody>\n",
       "</table>\n",
       "</div>"
      ],
      "text/plain": [
       "ESTACION  ANGEL GALLARDO  CALLAO.B  CARLOS GARDEL  CARLOS PELLEGRINI  DORREGO  \\\n",
       "201701            302879    338280         353255             502598   292664   \n",
       "201702            284650    346552         325949             470302   271066   \n",
       "201703            406406    511642         415533             609721   377516   \n",
       "201704            370819    450017         393965             536940   337850   \n",
       "201705            413918    508358         421990             599664   387773   \n",
       "201706            419833    501238         436199             606456   393405   \n",
       "201707            415642    478820         529589             636781   395550   \n",
       "201708            447024    526154         462377             647641   412804   \n",
       "201709            444356    521767         453360             603784   388220   \n",
       "201710            452784    542104         478520             611260   413795   \n",
       "201711            451355    533837         450794             602445   409955   \n",
       "201712            352171    414308         451059             509371   331590   \n",
       "\n",
       "ESTACION  ECHEVERRIA  FEDERICO LACROZE  FLORIDA  LEANDRO N. ALEM  LOS INCAS  \\\n",
       "201701        141750            511695   441188           553090     195713   \n",
       "201702        132879            474681   366084           495892     180915   \n",
       "201703        185013            686928   520120           712461     256731   \n",
       "201704        164278            619636   461547           621655     229347   \n",
       "201705        189237            706959   540982           711248     263497   \n",
       "201706        191515            716476   528098           655065     265865   \n",
       "201707        185792            709808   561457           683525     257155   \n",
       "201708        200447            757858   574394           687968     296256   \n",
       "201709        195315            754344   558004           704794     291394   \n",
       "201710        201619            775887   570306           726076     297495   \n",
       "201711        195447            775499   568066           700946     293508   \n",
       "201712        156611            636921   543760           441757     235686   \n",
       "\n",
       "ESTACION  MALABIA  MEDRANO  PASTEUR  PUEYRREDON   ROSAS  TRONADOR  URUGUAY  \n",
       "201701     377889   341292   248076      268862  541408    106590   309308  \n",
       "201702     349323   321815   238332      236438  508530    107466   342773  \n",
       "201703     503086   471902   362952      329502  708116    156945   486818  \n",
       "201704     449623   427819   315425      291638  625971    137022   406309  \n",
       "201705     516187   480948   351821      334416  729766    151766   473547  \n",
       "201706     528017   479090   350354      337907  716083    151239   474200  \n",
       "201707     520385   477493   348870      351933  697111    152511   462498  \n",
       "201708     543668   527635   376613      340882  763960    157194   490577  \n",
       "201709     535788   505395   373030      351097  757761    157413   473385  \n",
       "201710     557571   519606   392034      364650  781118    162695   477481  \n",
       "201711     558753   515424   382185      374949  747637    155654   462844  \n",
       "201712     467709   419816   318799      336318  585789    134491   380892  "
      ]
     },
     "execution_count": 33,
     "metadata": {},
     "output_type": "execute_result"
    }
   ],
   "source": [
    "linea_b_2017.head(14)"
   ]
  },
  {
   "cell_type": "markdown",
   "metadata": {
    "colab_type": "text",
    "id": "CmeUJ--Ixyft"
   },
   "source": [
    "Obtenemos un nuevo dataframe de 12 renglones (meses) y 17 columnas (estaciones)."
   ]
  },
  {
   "cell_type": "code",
   "execution_count": 34,
   "metadata": {
    "colab": {},
    "colab_type": "code",
    "id": "GY0Fb9z_xyfu",
    "outputId": "f840daf0-966c-4309-fdef-2b4c04402954"
   },
   "outputs": [
    {
     "data": {
      "text/plain": [
       "(12, 17)"
      ]
     },
     "execution_count": 34,
     "metadata": {},
     "output_type": "execute_result"
    }
   ],
   "source": [
    "linea_b_2017.shape"
   ]
  },
  {
   "cell_type": "markdown",
   "metadata": {
    "colab_type": "text",
    "id": "GQwGjTwkxyfz"
   },
   "source": [
    "**Heatmap con Seaborn**: con el comando sns.heatmap() podremos visualizar los valores del dataframe obtenido en el ultimo paso y asi en una sola figura entender cuales son los pares \"mes-estacion\" de mayor cantidad de viajes."
   ]
  },
  {
   "cell_type": "code",
   "execution_count": 35,
   "metadata": {
    "colab": {},
    "colab_type": "code",
    "id": "eB8wLziBxyf0",
    "outputId": "21cccddb-f42e-43df-a8fa-9420f4ae1e21"
   },
   "outputs": [
    {
     "data": {
      "image/png": "[encoded data removed]",
      "text/plain": [
       "<Figure size 864x576 with 2 Axes>"
      ]
     },
     "metadata": {
      "needs_background": "light"
     },
     "output_type": "display_data"
    }
   ],
   "source": [
    "plt.figure(figsize=(12,8))\n",
    "sns.heatmap(linea_b_2017)\n",
    "plt.title(\"Cantidad de viajes por mes y estacion Linea B 2017\")\n",
    "plt.show()"
   ]
  },
  {
   "cell_type": "markdown",
   "metadata": {
    "colab_type": "text",
    "id": "kKDVK0zRxyf6"
   },
   "source": [
    "### ¿que conclusiones parciales podemos obtener en base a las visualizaciones realizadas? "
   ]
  },
  {
   "cell_type": "markdown",
   "metadata": {
    "colab_type": "text",
    "id": "IZ3Tj_J2xyf7"
   },
   "source": [
    "# Visualizando series de tiempo con comando \"plot\" de matplotlib (plt)\n",
    "Utilizando el dataframe obtenido de la tabla pivote en el paso anterior, procedemos a visualizar la cantidad de pasajeros que pasaron por cada estación a lo largo de todo el año 2017."
   ]
  },
  {
   "cell_type": "code",
   "execution_count": 36,
   "metadata": {
    "colab": {},
    "colab_type": "code",
    "id": "8tltEHwlxyf9",
    "outputId": "16f9c344-3d06-4694-a498-cab17c284903",
    "scrolled": false
   },
   "outputs": [
    {
     "data": {
      "image/png": "[encoded data removed]",
      "text/plain": [
       "<Figure size 864x576 with 1 Axes>"
      ]
     },
     "metadata": {
      "needs_background": "light"
     },
     "output_type": "display_data"
    }
   ],
   "source": [
    "plt.figure(figsize=(12,8))\n",
    "plt.plot(linea_b_2017.index, linea_b_2017['ANGEL GALLARDO'], label='ANGEL GALLARDO');\n",
    "plt.plot(linea_b_2017.index, linea_b_2017['CARLOS GARDEL'], label='C GARDEL');\n",
    "plt.plot(linea_b_2017.index, linea_b_2017['CALLAO.B'], label='CALLAO');\n",
    "plt.plot(linea_b_2017.index, linea_b_2017['DORREGO'], label='DORREGO');\n",
    "plt.plot(linea_b_2017.index, linea_b_2017['ECHEVERRIA'], label='ECHEVERRIA');\n",
    "plt.plot(linea_b_2017.index, linea_b_2017['FEDERICO LACROZE'], label='LACROZE');\n",
    "plt.plot(linea_b_2017.index, linea_b_2017['FLORIDA'], label='FLORIDA');\n",
    "plt.legend(loc='upper right')\n",
    "plt.title('Cantidad de tickes de molinete por mes')\n",
    "plt.ylabel('Cantidad de tickets')\n",
    "plt.xlabel('Mes')\n",
    "plt.show()"
   ]
  },
  {
   "cell_type": "markdown",
   "metadata": {
    "colab_type": "text",
    "id": "DS5R1PtBxygB"
   },
   "source": [
    "# Análisis de la estación Lacroze de la linea B\n",
    "Creamos un dataframe llamado \"molinetes_lacroze\" que contiene unicamente las instancias del dataframe \"molinetes_b\" cuyo valor del atributo/feature \"ESTACION\" sea igual a \"FEDERICO LACROZE\""
   ]
  },
  {
   "cell_type": "code",
   "execution_count": 37,
   "metadata": {
    "colab": {},
    "colab_type": "code",
    "id": "eiRMV6A5xygC"
   },
   "outputs": [],
   "source": [
    "molinetes_lacroze = molinetes_b.loc[molinetes_b['ESTACION']== 'FEDERICO LACROZE']"
   ]
  },
  {
   "cell_type": "code",
   "execution_count": 38,
   "metadata": {
    "colab": {},
    "colab_type": "code",
    "id": "r0FjKmcaxygE",
    "outputId": "699583f7-14f4-4f26-d776-6663f3d66571"
   },
   "outputs": [
    {
     "data": {
      "text/html": [
       "<div>\n",
       "<style scoped>\n",
       "    .dataframe tbody tr th:only-of-type {\n",
       "        vertical-align: middle;\n",
       "    }\n",
       "\n",
       "    .dataframe tbody tr th {\n",
       "        vertical-align: top;\n",
       "    }\n",
       "\n",
       "    .dataframe thead th {\n",
       "        text-align: right;\n",
       "    }\n",
       "</style>\n",
       "<table border=\"1\" class=\"dataframe\">\n",
       "  <thead>\n",
       "    <tr style=\"text-align: right;\">\n",
       "      <th></th>\n",
       "      <th>PERIODO</th>\n",
       "      <th>FECHA</th>\n",
       "      <th>DESDE</th>\n",
       "      <th>HASTA</th>\n",
       "      <th>LINEA</th>\n",
       "      <th>MOLINETE</th>\n",
       "      <th>ESTACION</th>\n",
       "      <th>PAX_PAGOS</th>\n",
       "      <th>PAX_PASES_PAGOS</th>\n",
       "      <th>PAX_FRANQ</th>\n",
       "      <th>TOTAL</th>\n",
       "      <th>ID</th>\n",
       "    </tr>\n",
       "  </thead>\n",
       "  <tbody>\n",
       "    <tr>\n",
       "      <th>7622359</th>\n",
       "      <td>201701</td>\n",
       "      <td>01/01/2017</td>\n",
       "      <td>08:00:00</td>\n",
       "      <td>08:15:00</td>\n",
       "      <td>LINEA_B</td>\n",
       "      <td>LINEA_B_LACROZE_O_TURN09</td>\n",
       "      <td>FEDERICO LACROZE</td>\n",
       "      <td>2</td>\n",
       "      <td>0</td>\n",
       "      <td>0</td>\n",
       "      <td>2</td>\n",
       "      <td>66</td>\n",
       "    </tr>\n",
       "    <tr>\n",
       "      <th>7622360</th>\n",
       "      <td>201701</td>\n",
       "      <td>01/01/2017</td>\n",
       "      <td>08:00:00</td>\n",
       "      <td>08:15:00</td>\n",
       "      <td>LINEA_B</td>\n",
       "      <td>LINEA_B_LACROZE_E_TURN05</td>\n",
       "      <td>FEDERICO LACROZE</td>\n",
       "      <td>4</td>\n",
       "      <td>0</td>\n",
       "      <td>0</td>\n",
       "      <td>4</td>\n",
       "      <td>66</td>\n",
       "    </tr>\n",
       "    <tr>\n",
       "      <th>7622361</th>\n",
       "      <td>201701</td>\n",
       "      <td>01/01/2017</td>\n",
       "      <td>08:00:00</td>\n",
       "      <td>08:15:00</td>\n",
       "      <td>LINEA_B</td>\n",
       "      <td>LINEA_B_LACROZE_E_TURN06</td>\n",
       "      <td>FEDERICO LACROZE</td>\n",
       "      <td>0</td>\n",
       "      <td>0</td>\n",
       "      <td>1</td>\n",
       "      <td>1</td>\n",
       "      <td>66</td>\n",
       "    </tr>\n",
       "  </tbody>\n",
       "</table>\n",
       "</div>"
      ],
      "text/plain": [
       "         PERIODO       FECHA     DESDE     HASTA    LINEA  \\\n",
       "7622359   201701  01/01/2017  08:00:00  08:15:00  LINEA_B   \n",
       "7622360   201701  01/01/2017  08:00:00  08:15:00  LINEA_B   \n",
       "7622361   201701  01/01/2017  08:00:00  08:15:00  LINEA_B   \n",
       "\n",
       "                         MOLINETE          ESTACION  PAX_PAGOS  \\\n",
       "7622359  LINEA_B_LACROZE_O_TURN09  FEDERICO LACROZE          2   \n",
       "7622360  LINEA_B_LACROZE_E_TURN05  FEDERICO LACROZE          4   \n",
       "7622361  LINEA_B_LACROZE_E_TURN06  FEDERICO LACROZE          0   \n",
       "\n",
       "         PAX_PASES_PAGOS  PAX_FRANQ  TOTAL  ID  \n",
       "7622359                0          0      2  66  \n",
       "7622360                0          0      4  66  \n",
       "7622361                0          1      1  66  "
      ]
     },
     "execution_count": 38,
     "metadata": {},
     "output_type": "execute_result"
    }
   ],
   "source": [
    "molinetes_lacroze.head(3)"
   ]
  },
  {
   "cell_type": "markdown",
   "metadata": {
    "colab_type": "text",
    "id": "cALDNlMZxygI"
   },
   "source": [
    "Podriamos seleccionar varias columnas en simultáneo con doble corchete en los extremos y detallando las columnas en cuestión. Así podriamos ver que tipo de pago es el mas utilizado en los molinetes de la estación Lacroze de la linea B."
   ]
  },
  {
   "cell_type": "code",
   "execution_count": 39,
   "metadata": {
    "colab": {},
    "colab_type": "code",
    "id": "8SNCs7RZxygJ",
    "outputId": "416469a6-b76a-442c-9cd2-df295855847a"
   },
   "outputs": [
    {
     "data": {
      "text/plain": [
       "PAX_PAGOS          7742567\n",
       "PAX_PASES_PAGOS      42605\n",
       "PAX_FRANQ           341520\n",
       "dtype: int64"
      ]
     },
     "execution_count": 39,
     "metadata": {},
     "output_type": "execute_result"
    }
   ],
   "source": [
    "molinetes_lacroze[['PAX_PAGOS', 'PAX_PASES_PAGOS', 'PAX_FRANQ']].sum()"
   ]
  },
  {
   "cell_type": "markdown",
   "metadata": {
    "colab_type": "text",
    "id": "71SWKzc0xygN"
   },
   "source": [
    "### Ejercicio 00:\n",
    "Partiendo del dataframe \"molinetes\" crear un dataframe que contenga todos los viajes de la linea D."
   ]
  },
  {
   "cell_type": "code",
   "execution_count": 40,
   "metadata": {
    "colab": {},
    "colab_type": "code",
    "id": "MN-jzF11xygO"
   },
   "outputs": [
    {
     "data": {
      "text/html": [
       "<div>\n",
       "<style scoped>\n",
       "    .dataframe tbody tr th:only-of-type {\n",
       "        vertical-align: middle;\n",
       "    }\n",
       "\n",
       "    .dataframe tbody tr th {\n",
       "        vertical-align: top;\n",
       "    }\n",
       "\n",
       "    .dataframe thead th {\n",
       "        text-align: right;\n",
       "    }\n",
       "</style>\n",
       "<table border=\"1\" class=\"dataframe\">\n",
       "  <thead>\n",
       "    <tr style=\"text-align: right;\">\n",
       "      <th></th>\n",
       "      <th>PERIODO</th>\n",
       "      <th>FECHA</th>\n",
       "      <th>DESDE</th>\n",
       "      <th>HASTA</th>\n",
       "      <th>LINEA</th>\n",
       "      <th>MOLINETE</th>\n",
       "      <th>ESTACION</th>\n",
       "      <th>PAX_PAGOS</th>\n",
       "      <th>PAX_PASES_PAGOS</th>\n",
       "      <th>PAX_FRANQ</th>\n",
       "      <th>TOTAL</th>\n",
       "      <th>ID</th>\n",
       "    </tr>\n",
       "  </thead>\n",
       "  <tbody>\n",
       "    <tr>\n",
       "      <th>468843</th>\n",
       "      <td>201701</td>\n",
       "      <td>01/01/2017</td>\n",
       "      <td>08:00:00</td>\n",
       "      <td>08:15:00</td>\n",
       "      <td>LINEA_D</td>\n",
       "      <td>LINEA_D_9JULIO_S_TURN02</td>\n",
       "      <td>9 DE JULIO</td>\n",
       "      <td>1</td>\n",
       "      <td>0</td>\n",
       "      <td>0</td>\n",
       "      <td>1</td>\n",
       "      <td>6</td>\n",
       "    </tr>\n",
       "    <tr>\n",
       "      <th>468844</th>\n",
       "      <td>201701</td>\n",
       "      <td>01/01/2017</td>\n",
       "      <td>08:00:00</td>\n",
       "      <td>08:15:00</td>\n",
       "      <td>LINEA_D</td>\n",
       "      <td>LINEA_D_9JULIO_N_TURN02</td>\n",
       "      <td>9 DE JULIO</td>\n",
       "      <td>1</td>\n",
       "      <td>0</td>\n",
       "      <td>0</td>\n",
       "      <td>1</td>\n",
       "      <td>6</td>\n",
       "    </tr>\n",
       "    <tr>\n",
       "      <th>468845</th>\n",
       "      <td>201701</td>\n",
       "      <td>01/01/2017</td>\n",
       "      <td>08:00:00</td>\n",
       "      <td>08:15:00</td>\n",
       "      <td>LINEA_D</td>\n",
       "      <td>LINEA_D_9JULIO_S_TURN01</td>\n",
       "      <td>9 DE JULIO</td>\n",
       "      <td>1</td>\n",
       "      <td>0</td>\n",
       "      <td>0</td>\n",
       "      <td>1</td>\n",
       "      <td>6</td>\n",
       "    </tr>\n",
       "    <tr>\n",
       "      <th>468846</th>\n",
       "      <td>201701</td>\n",
       "      <td>01/01/2017</td>\n",
       "      <td>08:15:00</td>\n",
       "      <td>08:30:00</td>\n",
       "      <td>LINEA_D</td>\n",
       "      <td>LINEA_D_9JULIO_S_TURN02</td>\n",
       "      <td>9 DE JULIO</td>\n",
       "      <td>1</td>\n",
       "      <td>0</td>\n",
       "      <td>0</td>\n",
       "      <td>1</td>\n",
       "      <td>6</td>\n",
       "    </tr>\n",
       "    <tr>\n",
       "      <th>468847</th>\n",
       "      <td>201701</td>\n",
       "      <td>01/01/2017</td>\n",
       "      <td>08:15:00</td>\n",
       "      <td>08:30:00</td>\n",
       "      <td>LINEA_D</td>\n",
       "      <td>LINEA_D_9JULIO_S_TURN01</td>\n",
       "      <td>9 DE JULIO</td>\n",
       "      <td>2</td>\n",
       "      <td>0</td>\n",
       "      <td>0</td>\n",
       "      <td>2</td>\n",
       "      <td>6</td>\n",
       "    </tr>\n",
       "    <tr>\n",
       "      <th>...</th>\n",
       "      <td>...</td>\n",
       "      <td>...</td>\n",
       "      <td>...</td>\n",
       "      <td>...</td>\n",
       "      <td>...</td>\n",
       "      <td>...</td>\n",
       "      <td>...</td>\n",
       "      <td>...</td>\n",
       "      <td>...</td>\n",
       "      <td>...</td>\n",
       "      <td>...</td>\n",
       "      <td>...</td>\n",
       "    </tr>\n",
       "    <tr>\n",
       "      <th>11938469</th>\n",
       "      <td>201712</td>\n",
       "      <td>31/12/2017</td>\n",
       "      <td>22:00:00</td>\n",
       "      <td>22:15:00</td>\n",
       "      <td>LINEA_D</td>\n",
       "      <td>LINEA_D_PALERMO_TURN02</td>\n",
       "      <td>PALERMO</td>\n",
       "      <td>6</td>\n",
       "      <td>0</td>\n",
       "      <td>0</td>\n",
       "      <td>6</td>\n",
       "      <td>12</td>\n",
       "    </tr>\n",
       "    <tr>\n",
       "      <th>11938470</th>\n",
       "      <td>201712</td>\n",
       "      <td>31/12/2017</td>\n",
       "      <td>22:00:00</td>\n",
       "      <td>22:15:00</td>\n",
       "      <td>LINEA_D</td>\n",
       "      <td>LINEA_D_PALERMO_TURN05</td>\n",
       "      <td>PALERMO</td>\n",
       "      <td>1</td>\n",
       "      <td>0</td>\n",
       "      <td>0</td>\n",
       "      <td>1</td>\n",
       "      <td>12</td>\n",
       "    </tr>\n",
       "    <tr>\n",
       "      <th>11938471</th>\n",
       "      <td>201712</td>\n",
       "      <td>31/12/2017</td>\n",
       "      <td>22:00:00</td>\n",
       "      <td>22:15:00</td>\n",
       "      <td>LINEA_D</td>\n",
       "      <td>LINEA_D_PITALIA_O_TURN01</td>\n",
       "      <td>PLAZA ITALIA</td>\n",
       "      <td>17</td>\n",
       "      <td>0</td>\n",
       "      <td>0</td>\n",
       "      <td>17</td>\n",
       "      <td>11</td>\n",
       "    </tr>\n",
       "    <tr>\n",
       "      <th>11938472</th>\n",
       "      <td>201712</td>\n",
       "      <td>31/12/2017</td>\n",
       "      <td>22:00:00</td>\n",
       "      <td>22:15:00</td>\n",
       "      <td>LINEA_D</td>\n",
       "      <td>LINEA_D_PUEYRREDON_TURN02</td>\n",
       "      <td>PUEYRREDON.D</td>\n",
       "      <td>7</td>\n",
       "      <td>0</td>\n",
       "      <td>0</td>\n",
       "      <td>7</td>\n",
       "      <td>55</td>\n",
       "    </tr>\n",
       "    <tr>\n",
       "      <th>11938473</th>\n",
       "      <td>201712</td>\n",
       "      <td>31/12/2017</td>\n",
       "      <td>22:00:00</td>\n",
       "      <td>22:15:00</td>\n",
       "      <td>LINEA_D</td>\n",
       "      <td>LINEA_D_PUEYRREDON_TURN03</td>\n",
       "      <td>PUEYRREDON.D</td>\n",
       "      <td>2</td>\n",
       "      <td>0</td>\n",
       "      <td>0</td>\n",
       "      <td>2</td>\n",
       "      <td>55</td>\n",
       "    </tr>\n",
       "  </tbody>\n",
       "</table>\n",
       "<p>2574272 rows × 12 columns</p>\n",
       "</div>"
      ],
      "text/plain": [
       "          PERIODO       FECHA     DESDE     HASTA    LINEA  \\\n",
       "468843     201701  01/01/2017  08:00:00  08:15:00  LINEA_D   \n",
       "468844     201701  01/01/2017  08:00:00  08:15:00  LINEA_D   \n",
       "468845     201701  01/01/2017  08:00:00  08:15:00  LINEA_D   \n",
       "468846     201701  01/01/2017  08:15:00  08:30:00  LINEA_D   \n",
       "468847     201701  01/01/2017  08:15:00  08:30:00  LINEA_D   \n",
       "...           ...         ...       ...       ...      ...   \n",
       "11938469   201712  31/12/2017  22:00:00  22:15:00  LINEA_D   \n",
       "11938470   201712  31/12/2017  22:00:00  22:15:00  LINEA_D   \n",
       "11938471   201712  31/12/2017  22:00:00  22:15:00  LINEA_D   \n",
       "11938472   201712  31/12/2017  22:00:00  22:15:00  LINEA_D   \n",
       "11938473   201712  31/12/2017  22:00:00  22:15:00  LINEA_D   \n",
       "\n",
       "                           MOLINETE      ESTACION  PAX_PAGOS  PAX_PASES_PAGOS  \\\n",
       "468843      LINEA_D_9JULIO_S_TURN02    9 DE JULIO          1                0   \n",
       "468844      LINEA_D_9JULIO_N_TURN02    9 DE JULIO          1                0   \n",
       "468845      LINEA_D_9JULIO_S_TURN01    9 DE JULIO          1                0   \n",
       "468846      LINEA_D_9JULIO_S_TURN02    9 DE JULIO          1                0   \n",
       "468847      LINEA_D_9JULIO_S_TURN01    9 DE JULIO          2                0   \n",
       "...                             ...           ...        ...              ...   \n",
       "11938469     LINEA_D_PALERMO_TURN02       PALERMO          6                0   \n",
       "11938470     LINEA_D_PALERMO_TURN05       PALERMO          1                0   \n",
       "11938471   LINEA_D_PITALIA_O_TURN01  PLAZA ITALIA         17                0   \n",
       "11938472  LINEA_D_PUEYRREDON_TURN02  PUEYRREDON.D          7                0   \n",
       "11938473  LINEA_D_PUEYRREDON_TURN03  PUEYRREDON.D          2                0   \n",
       "\n",
       "          PAX_FRANQ  TOTAL  ID  \n",
       "468843            0      1   6  \n",
       "468844            0      1   6  \n",
       "468845            0      1   6  \n",
       "468846            0      1   6  \n",
       "468847            0      2   6  \n",
       "...             ...    ...  ..  \n",
       "11938469          0      6  12  \n",
       "11938470          0      1  12  \n",
       "11938471          0     17  11  \n",
       "11938472          0      7  55  \n",
       "11938473          0      2  55  \n",
       "\n",
       "[2574272 rows x 12 columns]"
      ]
     },
     "execution_count": 40,
     "metadata": {},
     "output_type": "execute_result"
    }
   ],
   "source": [
    "molinetes_d = molinetes.loc[molinetes['LINEA'] == 'LINEA_D']\n",
    "molinetes_d"
   ]
  },
  {
   "cell_type": "markdown",
   "metadata": {
    "colab_type": "text",
    "id": "Id87h8aKxygS"
   },
   "source": [
    "### Ejercicio 01:\n",
    "Determinar cual es la estacion de mayor cantidad de viajes en la linea D durante todo el año."
   ]
  },
  {
   "cell_type": "code",
   "execution_count": 41,
   "metadata": {
    "colab": {},
    "colab_type": "code",
    "id": "-P-rn7igxygT"
   },
   "outputs": [
    {
     "name": "stdout",
     "output_type": "stream",
     "text": [
      "La estación de mayor cantidad de viajes en la línea D durante todo el año es \"CATEDRAL\" con 10145693 viajes.\n"
     ]
    }
   ],
   "source": [
    "#creo una tabla pivot donde en filas tenga las estaciones y en la columna total la suma de los viajes. De ahí obtengo el\n",
    "#valor máximo de viajes e identifico en que estacíon se produjeron.\n",
    "\n",
    "linea_d_2017 = pd.pivot_table(molinetes_d,values = 'TOTAL',index = 'ESTACION', aggfunc = np.sum)\n",
    "cant_max_viajes = linea_d_2017.TOTAL.max()\n",
    "estacion_max_viajes = linea_d_2017.index[linea_d_2017.TOTAL == cant_max_viajes][0]\n",
    "\n",
    "print('La estación de mayor cantidad de viajes en la línea D durante todo el año es \"' + str(estacion_max_viajes) + '\" con ' + str(cant_max_viajes) + ' viajes.')"
   ]
  },
  {
   "cell_type": "markdown",
   "metadata": {
    "colab_type": "text",
    "id": "Ei5UeFFrxygV"
   },
   "source": [
    "### Ejercicio 02:\n",
    "Para la estación de mayor cantidad de viajes determinar cual es el mes de mayor cantidad de viajes."
   ]
  },
  {
   "cell_type": "code",
   "execution_count": 42,
   "metadata": {
    "colab": {},
    "colab_type": "code",
    "id": "Wn7_oMSnxygV"
   },
   "outputs": [
    {
     "name": "stdout",
     "output_type": "stream",
     "text": [
      "El mes de mayor cantidad de viajes en la estación \"CATEDRAL\" es \"201703\" con 945638 viajes.\n"
     ]
    }
   ],
   "source": [
    "#nuevamente a través de otra tabla pivot, en este caso para estaciones y total de viajes realizados en la estación Catedral\n",
    "#obtengo el valor máximo de viajes en un mes e identifico el mes correspondiente.\n",
    "\n",
    "molinetes_d_catedral = molinetes_d.loc[molinetes_d['ESTACION'] == 'CATEDRAL']\n",
    "\n",
    "linea_d_catedral_2017 = pd.pivot_table(molinetes_d_catedral, values = 'TOTAL', index = 'PERIODO', aggfunc = np.sum)\n",
    "cant_max_viajes_mes = linea_d_catedral_2017.TOTAL.max()\n",
    "mes_max_viajes = linea_d_catedral_2017.index[linea_d_catedral_2017.TOTAL == cant_max_viajes_mes][0]\n",
    "\n",
    "print('El mes de mayor cantidad de viajes en la estación \"' + str(estacion_max_viajes) + '\" es \"' + str(mes_max_viajes) + '\" con ' + str(cant_max_viajes_mes) + ' viajes.')"
   ]
  },
  {
   "cell_type": "markdown",
   "metadata": {
    "colab_type": "text",
    "id": "mr4KLvEKxygd"
   },
   "source": [
    "### Ejercicio 03:\n",
    "Para la estación de mayor cantidad de viajes, en el mes de mayor cantidad de viajes, determinar cual es el molinete de mayor cantidad de viajes."
   ]
  },
  {
   "cell_type": "code",
   "execution_count": 43,
   "metadata": {
    "colab": {},
    "colab_type": "code",
    "id": "EWDxl-gVxygd"
   },
   "outputs": [
    {
     "name": "stdout",
     "output_type": "stream",
     "text": [
      "Para la estación de mayor cantidad de viajes (CATEDRAL), en el mes de mayor cantidad de viajes (201703), el molinete donde se realizaron la mayor cantidad de viajes es \"LINEA_D_CATEDRAL_E_TURN04\" con 108580 viajes.\n"
     ]
    }
   ],
   "source": [
    "molinetes_d_catedral_03 = molinetes_d_catedral.loc[molinetes_d_catedral.PERIODO == 201703]\n",
    "\n",
    "linea_d_catedral_03 = pd.pivot_table(molinetes_d_catedral_03, values='TOTAL', index='MOLINETE', aggfunc=np.sum)\n",
    "linea_d_catedral_03\n",
    "cant_max_viajes_mes_mol = linea_d_catedral_03.TOTAL.max()\n",
    "mol_max_viajes = linea_d_catedral_03.index[linea_d_catedral_03.TOTAL == cant_max_viajes_mes_mol][0]\n",
    "\n",
    "print('Para la estación de mayor cantidad de viajes (' + str(estacion_max_viajes) + '), en el mes de mayor cantidad de viajes (' + str(mes_max_viajes) + '), el molinete donde se realizaron la mayor cantidad de viajes es \"' + str(mol_max_viajes) + '\" con ' + str(cant_max_viajes_mes_mol) + ' viajes.')"
   ]
  }
 ],
 "metadata": {
  "colab": {
   "collapsed_sections": [
    "7_H9VuaWxydA",
    "30mZqyVExydF",
    "EA45SuLDxydP",
    "CqShmYWpxydV",
    "1qfzY_wDxydl",
    "cRItJiUKxyd0",
    "2BQUNfffxyd8",
    "YQ1e1SnYxyeU",
    "rpcc_iSHxyeb",
    "0gnmcac2xyed",
    "xmT5e_PKxyew",
    "ekYE9FZpxyfD",
    "VE8OJ8gdxyfS",
    "NU6Jn1D_xyfh",
    "kKDVK0zRxyf6",
    "IZ3Tj_J2xyf7",
    "DS5R1PtBxygB",
    "71SWKzc0xygN",
    "Id87h8aKxygS",
    "Ei5UeFFrxygV",
    "mr4KLvEKxygd"
   ],
   "name": "clusterai_2020_clase00.ipynb",
   "provenance": []
  },
  "kernelspec": {
   "display_name": "Python 3",
   "language": "python",
   "name": "python3"
  },
  "language_info": {
   "codemirror_mode": {
    "name": "ipython",
    "version": 3
   },
   "file_extension": ".py",
   "mimetype": "text/x-python",
   "name": "python",
   "nbconvert_exporter": "python",
   "pygments_lexer": "ipython3",
   "version": "3.8.3"
  }
 },
 "nbformat": 4,
 "nbformat_minor": 1
}
